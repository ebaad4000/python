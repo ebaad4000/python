{
  "cells": [
    {
      "cell_type": "markdown",
      "metadata": {
        "id": "view-in-github",
        "colab_type": "text"
      },
      "source": [
        "<a href=\"https://colab.research.google.com/github/ebaad4000/python/blob/main/20_18sw_137_Analyze_ab_test_results_notebook.ipynb\" target=\"_parent\"><img src=\"https://colab.research.google.com/assets/colab-badge.svg\" alt=\"Open In Colab\"/></a>"
      ]
    },
    {
      "cell_type": "code",
      "execution_count": 4,
      "metadata": {
        "collapsed": true,
        "id": "q6xZol6voYSM"
      },
      "outputs": [],
      "source": [
        "import pandas as pd\n",
        "import numpy as np\n",
        "import random\n",
        "import matplotlib.pyplot as plt\n",
        "%matplotlib inline\n",
        "#We are setting the seed to assure you get the same answers on quizzes as we set up\n",
        "random.seed(42)"
      ]
    },
    {
      "cell_type": "markdown",
      "metadata": {
        "id": "syvbleqCoYSP"
      },
      "source": [
        "`1.` Now, read in the `ab_data.csv` data. Store it in `df`.  **Use your dataframe to answer the questions in Quiz 1 of the classroom.**\n",
        "\n",
        "a. Read in the dataset and take a look at the top few rows here:"
      ]
    },
    {
      "cell_type": "code",
      "execution_count": 5,
      "metadata": {
        "collapsed": true,
        "id": "qsdfIB_VoYSP"
      },
      "outputs": [],
      "source": [
        "# read data\n",
        "df = pd.read_csv('/content/ab_data.csv')"
      ]
    },
    {
      "cell_type": "markdown",
      "metadata": {
        "id": "ihwGPtn0oYSQ"
      },
      "source": [
        "b. Use the below cell to find the number of rows in the dataset."
      ]
    },
    {
      "cell_type": "code",
      "execution_count": 6,
      "metadata": {
        "scrolled": true,
        "colab": {
          "base_uri": "https://localhost:8080/"
        },
        "id": "MNeNTQ46oYSQ",
        "outputId": "0f8fc5f4-540f-4ca1-ec31-74a12159ec35"
      },
      "outputs": [
        {
          "output_type": "execute_result",
          "data": {
            "text/plain": [
              "(194174, 5)"
            ]
          },
          "metadata": {},
          "execution_count": 6
        }
      ],
      "source": [
        "# check rows with shape method\n",
        "df.shape"
      ]
    },
    {
      "cell_type": "code",
      "execution_count": 7,
      "metadata": {
        "colab": {
          "base_uri": "https://localhost:8080/"
        },
        "id": "XRPa6DV6oYSS",
        "outputId": "d79bb648-61a0-4050-f69b-c52ad2e78c70"
      },
      "outputs": [
        {
          "output_type": "stream",
          "name": "stdout",
          "text": [
            "<class 'pandas.core.frame.DataFrame'>\n",
            "RangeIndex: 194174 entries, 0 to 194173\n",
            "Data columns (total 5 columns):\n",
            " #   Column        Non-Null Count   Dtype \n",
            "---  ------        --------------   ----- \n",
            " 0   user_id       194174 non-null  int64 \n",
            " 1   timestamp     194174 non-null  object\n",
            " 2   group         194174 non-null  object\n",
            " 3   landing_page  194174 non-null  object\n",
            " 4   converted     194174 non-null  int64 \n",
            "dtypes: int64(2), object(3)\n",
            "memory usage: 7.4+ MB\n"
          ]
        }
      ],
      "source": [
        "# info helps to get an overview as well\n",
        "df.info()"
      ]
    },
    {
      "cell_type": "markdown",
      "metadata": {
        "id": "ua4iyLILoYST"
      },
      "source": [
        "c. The number of unique users in the dataset."
      ]
    },
    {
      "cell_type": "code",
      "execution_count": 8,
      "metadata": {
        "colab": {
          "base_uri": "https://localhost:8080/"
        },
        "id": "s9OHit66oYST",
        "outputId": "79b3bff1-a4a1-4485-c891-74249c42e0cb"
      },
      "outputs": [
        {
          "output_type": "execute_result",
          "data": {
            "text/plain": [
              "192506"
            ]
          },
          "metadata": {},
          "execution_count": 8
        }
      ],
      "source": [
        "# use unique method\n",
        "users_unique = df.user_id.nunique()\n",
        "users_unique"
      ]
    },
    {
      "cell_type": "markdown",
      "metadata": {
        "collapsed": true,
        "id": "2I60nB7BoYSU"
      },
      "source": [
        "d. The proportion of users converted."
      ]
    },
    {
      "cell_type": "code",
      "execution_count": 9,
      "metadata": {
        "colab": {
          "base_uri": "https://localhost:8080/"
        },
        "id": "JiF4gdFMoYSU",
        "outputId": "fd002c2a-d367-413d-8694-c3bd39b868af"
      },
      "outputs": [
        {
          "output_type": "execute_result",
          "data": {
            "text/plain": [
              "0.12001606806266545"
            ]
          },
          "metadata": {},
          "execution_count": 9
        }
      ],
      "source": [
        "# proportions of user who converted (i.e. converted = 1)\n",
        "df[df.converted == 1].user_id.count()/df.shape[0]\n",
        "\n",
        "# alternatively\n",
        "df.converted.mean()"
      ]
    },
    {
      "cell_type": "markdown",
      "metadata": {
        "collapsed": true,
        "id": "VMROGiuioYSV"
      },
      "source": [
        "e. The number of times the `new_page` and `treatment` don't line up."
      ]
    },
    {
      "cell_type": "code",
      "execution_count": 10,
      "metadata": {
        "colab": {
          "base_uri": "https://localhost:8080/"
        },
        "id": "O9eQn8-aoYSV",
        "outputId": "3a3e50c7-15e1-4bc9-d09f-b1906b74201a"
      },
      "outputs": [
        {
          "output_type": "execute_result",
          "data": {
            "text/plain": [
              "2602"
            ]
          },
          "metadata": {},
          "execution_count": 10
        }
      ],
      "source": [
        "# there are two dimentions to this\n",
        "# 1. get the number where landing_page equals new_page but group is not treatment\n",
        "# 2. get the number where landing_page not new_page but group is treatment\n",
        "# adding these two will give total misalignment\n",
        "df[(df.landing_page == 'new_page') & (df.group != 'treatment')].user_id.count() + df[(df.landing_page != 'new_page') & (df.group == 'treatment')].user_id.count()"
      ]
    },
    {
      "cell_type": "markdown",
      "metadata": {
        "id": "7wcObE-noYSW"
      },
      "source": [
        "f. Do any of the rows have missing values?"
      ]
    },
    {
      "cell_type": "code",
      "execution_count": 11,
      "metadata": {
        "colab": {
          "base_uri": "https://localhost:8080/"
        },
        "id": "qTJOTcfloYSW",
        "outputId": "b14941cf-ad4b-478a-bb83-57f8ddefbcc1"
      },
      "outputs": [
        {
          "output_type": "execute_result",
          "data": {
            "text/plain": [
              "user_id         0\n",
              "timestamp       0\n",
              "group           0\n",
              "landing_page    0\n",
              "converted       0\n",
              "dtype: int64"
            ]
          },
          "metadata": {},
          "execution_count": 11
        }
      ],
      "source": [
        "# we find the rows with missing values with isnull\n",
        "df.isnull().sum()"
      ]
    },
    {
      "cell_type": "markdown",
      "metadata": {
        "id": "fLbzY046oYSX"
      },
      "source": [
        "`2.` For the rows where **treatment** is not aligned with **new_page** or **control** is not aligned with **old_page**, we cannot be sure if this row truly received the new or old page.  Use **Quiz 2** in the classroom to provide how we should handle these rows.  \n",
        "\n",
        "a. Now use the answer to the quiz to create a new dataset that meets the specifications from the quiz.  Store your new dataframe in **df2**."
      ]
    },
    {
      "cell_type": "code",
      "execution_count": 12,
      "metadata": {
        "collapsed": true,
        "id": "6PcPNEyEoYSX"
      },
      "outputs": [],
      "source": [
        "# using the same logic from e.\n",
        "df2 = df.drop(df[((df.landing_page == 'new_page') & (df.group != 'treatment')) | ((df.landing_page != 'new_page') & (df.group == 'treatment'))].index)"
      ]
    },
    {
      "cell_type": "code",
      "execution_count": 13,
      "metadata": {
        "colab": {
          "base_uri": "https://localhost:8080/"
        },
        "id": "9S0mfZmAoYSY",
        "outputId": "d74fac9f-e4aa-433c-c945-a97c5d114939"
      },
      "outputs": [
        {
          "output_type": "execute_result",
          "data": {
            "text/plain": [
              "0"
            ]
          },
          "metadata": {},
          "execution_count": 13
        }
      ],
      "source": [
        "# Double Check all of the correct rows were removed - this should be 0\n",
        "df2[((df2['group'] == 'treatment') == (df2['landing_page'] == 'new_page')) == False].shape[0]"
      ]
    },
    {
      "cell_type": "markdown",
      "metadata": {
        "id": "UUjKpEGWoYSZ"
      },
      "source": [
        "`3.` Use **df2** and the cells below to answer questions for **Quiz3** in the classroom."
      ]
    },
    {
      "cell_type": "markdown",
      "metadata": {
        "id": "2GlM1mYAoYSZ"
      },
      "source": [
        "a. How many unique **user_id**s are in **df2**?"
      ]
    },
    {
      "cell_type": "code",
      "execution_count": 14,
      "metadata": {
        "colab": {
          "base_uri": "https://localhost:8080/"
        },
        "id": "FfE4kX7QoYSZ",
        "outputId": "12888fe3-c7bd-43b8-d72d-5a10a29cffc2"
      },
      "outputs": [
        {
          "output_type": "stream",
          "name": "stdout",
          "text": [
            "<class 'pandas.core.frame.DataFrame'>\n",
            "Int64Index: 191572 entries, 0 to 194173\n",
            "Data columns (total 5 columns):\n",
            " #   Column        Non-Null Count   Dtype \n",
            "---  ------        --------------   ----- \n",
            " 0   user_id       191572 non-null  int64 \n",
            " 1   timestamp     191572 non-null  object\n",
            " 2   group         191572 non-null  object\n",
            " 3   landing_page  191572 non-null  object\n",
            " 4   converted     191572 non-null  int64 \n",
            "dtypes: int64(2), object(3)\n",
            "memory usage: 8.8+ MB\n"
          ]
        }
      ],
      "source": [
        "# check for info\n",
        "df2.info()"
      ]
    },
    {
      "cell_type": "code",
      "execution_count": 15,
      "metadata": {
        "colab": {
          "base_uri": "https://localhost:8080/"
        },
        "id": "GZg0xsr7oYSa",
        "outputId": "16d7a998-98cd-4bb4-8548-901b7a1c5ac5"
      },
      "outputs": [
        {
          "output_type": "execute_result",
          "data": {
            "text/plain": [
              "191571"
            ]
          },
          "metadata": {},
          "execution_count": 15
        }
      ],
      "source": [
        "df2.user_id.nunique()"
      ]
    },
    {
      "cell_type": "markdown",
      "metadata": {
        "id": "kdsFPXGWoYSa"
      },
      "source": [
        "`df.info()` shows 290585 entries but `df2.user_id.nunique()` gives 290584. Meaning there is one duplicate."
      ]
    },
    {
      "cell_type": "markdown",
      "metadata": {
        "collapsed": true,
        "id": "Mq00nPEwoYSb"
      },
      "source": [
        "b. There is one **user_id** repeated in **df2**.  What is it?"
      ]
    },
    {
      "cell_type": "code",
      "execution_count": 16,
      "metadata": {
        "colab": {
          "base_uri": "https://localhost:8080/"
        },
        "id": "hqMHGl7VoYSb",
        "outputId": "93fc8d13-4915-42f3-d2de-db05e5ea480b"
      },
      "outputs": [
        {
          "output_type": "execute_result",
          "data": {
            "text/plain": [
              "1899    773192\n",
              "2893    773192\n",
              "Name: user_id, dtype: int64"
            ]
          },
          "metadata": {},
          "execution_count": 16
        }
      ],
      "source": [
        "# here we look for duplicated user_id, but we show both of those in our result by keep=False\n",
        "df2.user_id[df2.user_id.duplicated(keep=False)]"
      ]
    },
    {
      "cell_type": "markdown",
      "metadata": {
        "id": "WROQIoefoYSb"
      },
      "source": [
        "c. What is the row information for the repeat **user_id**?"
      ]
    },
    {
      "cell_type": "code",
      "execution_count": 17,
      "metadata": {
        "colab": {
          "base_uri": "https://localhost:8080/",
          "height": 112
        },
        "id": "gulhmeO8oYSc",
        "outputId": "9bf9ee6d-8ff5-43db-e8b8-055a022310a4"
      },
      "outputs": [
        {
          "output_type": "execute_result",
          "data": {
            "text/plain": [
              "      user_id                   timestamp      group landing_page  converted\n",
              "1899   773192  2017-01-09 05:37:58.781806  treatment     new_page          0\n",
              "2893   773192  2017-01-14 02:55:59.590927  treatment     new_page          0"
            ],
            "text/html": [
              "\n",
              "  <div id=\"df-2d4f9c9b-06cc-47d3-94f7-14a210f44360\" class=\"colab-df-container\">\n",
              "    <div>\n",
              "<style scoped>\n",
              "    .dataframe tbody tr th:only-of-type {\n",
              "        vertical-align: middle;\n",
              "    }\n",
              "\n",
              "    .dataframe tbody tr th {\n",
              "        vertical-align: top;\n",
              "    }\n",
              "\n",
              "    .dataframe thead th {\n",
              "        text-align: right;\n",
              "    }\n",
              "</style>\n",
              "<table border=\"1\" class=\"dataframe\">\n",
              "  <thead>\n",
              "    <tr style=\"text-align: right;\">\n",
              "      <th></th>\n",
              "      <th>user_id</th>\n",
              "      <th>timestamp</th>\n",
              "      <th>group</th>\n",
              "      <th>landing_page</th>\n",
              "      <th>converted</th>\n",
              "    </tr>\n",
              "  </thead>\n",
              "  <tbody>\n",
              "    <tr>\n",
              "      <th>1899</th>\n",
              "      <td>773192</td>\n",
              "      <td>2017-01-09 05:37:58.781806</td>\n",
              "      <td>treatment</td>\n",
              "      <td>new_page</td>\n",
              "      <td>0</td>\n",
              "    </tr>\n",
              "    <tr>\n",
              "      <th>2893</th>\n",
              "      <td>773192</td>\n",
              "      <td>2017-01-14 02:55:59.590927</td>\n",
              "      <td>treatment</td>\n",
              "      <td>new_page</td>\n",
              "      <td>0</td>\n",
              "    </tr>\n",
              "  </tbody>\n",
              "</table>\n",
              "</div>\n",
              "    <div class=\"colab-df-buttons\">\n",
              "\n",
              "  <div class=\"colab-df-container\">\n",
              "    <button class=\"colab-df-convert\" onclick=\"convertToInteractive('df-2d4f9c9b-06cc-47d3-94f7-14a210f44360')\"\n",
              "            title=\"Convert this dataframe to an interactive table.\"\n",
              "            style=\"display:none;\">\n",
              "\n",
              "  <svg xmlns=\"http://www.w3.org/2000/svg\" height=\"24px\" viewBox=\"0 -960 960 960\">\n",
              "    <path d=\"M120-120v-720h720v720H120Zm60-500h600v-160H180v160Zm220 220h160v-160H400v160Zm0 220h160v-160H400v160ZM180-400h160v-160H180v160Zm440 0h160v-160H620v160ZM180-180h160v-160H180v160Zm440 0h160v-160H620v160Z\"/>\n",
              "  </svg>\n",
              "    </button>\n",
              "\n",
              "  <style>\n",
              "    .colab-df-container {\n",
              "      display:flex;\n",
              "      gap: 12px;\n",
              "    }\n",
              "\n",
              "    .colab-df-convert {\n",
              "      background-color: #E8F0FE;\n",
              "      border: none;\n",
              "      border-radius: 50%;\n",
              "      cursor: pointer;\n",
              "      display: none;\n",
              "      fill: #1967D2;\n",
              "      height: 32px;\n",
              "      padding: 0 0 0 0;\n",
              "      width: 32px;\n",
              "    }\n",
              "\n",
              "    .colab-df-convert:hover {\n",
              "      background-color: #E2EBFA;\n",
              "      box-shadow: 0px 1px 2px rgba(60, 64, 67, 0.3), 0px 1px 3px 1px rgba(60, 64, 67, 0.15);\n",
              "      fill: #174EA6;\n",
              "    }\n",
              "\n",
              "    .colab-df-buttons div {\n",
              "      margin-bottom: 4px;\n",
              "    }\n",
              "\n",
              "    [theme=dark] .colab-df-convert {\n",
              "      background-color: #3B4455;\n",
              "      fill: #D2E3FC;\n",
              "    }\n",
              "\n",
              "    [theme=dark] .colab-df-convert:hover {\n",
              "      background-color: #434B5C;\n",
              "      box-shadow: 0px 1px 3px 1px rgba(0, 0, 0, 0.15);\n",
              "      filter: drop-shadow(0px 1px 2px rgba(0, 0, 0, 0.3));\n",
              "      fill: #FFFFFF;\n",
              "    }\n",
              "  </style>\n",
              "\n",
              "    <script>\n",
              "      const buttonEl =\n",
              "        document.querySelector('#df-2d4f9c9b-06cc-47d3-94f7-14a210f44360 button.colab-df-convert');\n",
              "      buttonEl.style.display =\n",
              "        google.colab.kernel.accessAllowed ? 'block' : 'none';\n",
              "\n",
              "      async function convertToInteractive(key) {\n",
              "        const element = document.querySelector('#df-2d4f9c9b-06cc-47d3-94f7-14a210f44360');\n",
              "        const dataTable =\n",
              "          await google.colab.kernel.invokeFunction('convertToInteractive',\n",
              "                                                    [key], {});\n",
              "        if (!dataTable) return;\n",
              "\n",
              "        const docLinkHtml = 'Like what you see? Visit the ' +\n",
              "          '<a target=\"_blank\" href=https://colab.research.google.com/notebooks/data_table.ipynb>data table notebook</a>'\n",
              "          + ' to learn more about interactive tables.';\n",
              "        element.innerHTML = '';\n",
              "        dataTable['output_type'] = 'display_data';\n",
              "        await google.colab.output.renderOutput(dataTable, element);\n",
              "        const docLink = document.createElement('div');\n",
              "        docLink.innerHTML = docLinkHtml;\n",
              "        element.appendChild(docLink);\n",
              "      }\n",
              "    </script>\n",
              "  </div>\n",
              "\n",
              "\n",
              "<div id=\"df-83aea4cc-0e02-4343-9b3f-01c3b13d314c\">\n",
              "  <button class=\"colab-df-quickchart\" onclick=\"quickchart('df-83aea4cc-0e02-4343-9b3f-01c3b13d314c')\"\n",
              "            title=\"Suggest charts.\"\n",
              "            style=\"display:none;\">\n",
              "\n",
              "<svg xmlns=\"http://www.w3.org/2000/svg\" height=\"24px\"viewBox=\"0 0 24 24\"\n",
              "     width=\"24px\">\n",
              "    <g>\n",
              "        <path d=\"M19 3H5c-1.1 0-2 .9-2 2v14c0 1.1.9 2 2 2h14c1.1 0 2-.9 2-2V5c0-1.1-.9-2-2-2zM9 17H7v-7h2v7zm4 0h-2V7h2v10zm4 0h-2v-4h2v4z\"/>\n",
              "    </g>\n",
              "</svg>\n",
              "  </button>\n",
              "\n",
              "<style>\n",
              "  .colab-df-quickchart {\n",
              "      --bg-color: #E8F0FE;\n",
              "      --fill-color: #1967D2;\n",
              "      --hover-bg-color: #E2EBFA;\n",
              "      --hover-fill-color: #174EA6;\n",
              "      --disabled-fill-color: #AAA;\n",
              "      --disabled-bg-color: #DDD;\n",
              "  }\n",
              "\n",
              "  [theme=dark] .colab-df-quickchart {\n",
              "      --bg-color: #3B4455;\n",
              "      --fill-color: #D2E3FC;\n",
              "      --hover-bg-color: #434B5C;\n",
              "      --hover-fill-color: #FFFFFF;\n",
              "      --disabled-bg-color: #3B4455;\n",
              "      --disabled-fill-color: #666;\n",
              "  }\n",
              "\n",
              "  .colab-df-quickchart {\n",
              "    background-color: var(--bg-color);\n",
              "    border: none;\n",
              "    border-radius: 50%;\n",
              "    cursor: pointer;\n",
              "    display: none;\n",
              "    fill: var(--fill-color);\n",
              "    height: 32px;\n",
              "    padding: 0;\n",
              "    width: 32px;\n",
              "  }\n",
              "\n",
              "  .colab-df-quickchart:hover {\n",
              "    background-color: var(--hover-bg-color);\n",
              "    box-shadow: 0 1px 2px rgba(60, 64, 67, 0.3), 0 1px 3px 1px rgba(60, 64, 67, 0.15);\n",
              "    fill: var(--button-hover-fill-color);\n",
              "  }\n",
              "\n",
              "  .colab-df-quickchart-complete:disabled,\n",
              "  .colab-df-quickchart-complete:disabled:hover {\n",
              "    background-color: var(--disabled-bg-color);\n",
              "    fill: var(--disabled-fill-color);\n",
              "    box-shadow: none;\n",
              "  }\n",
              "\n",
              "  .colab-df-spinner {\n",
              "    border: 2px solid var(--fill-color);\n",
              "    border-color: transparent;\n",
              "    border-bottom-color: var(--fill-color);\n",
              "    animation:\n",
              "      spin 1s steps(1) infinite;\n",
              "  }\n",
              "\n",
              "  @keyframes spin {\n",
              "    0% {\n",
              "      border-color: transparent;\n",
              "      border-bottom-color: var(--fill-color);\n",
              "      border-left-color: var(--fill-color);\n",
              "    }\n",
              "    20% {\n",
              "      border-color: transparent;\n",
              "      border-left-color: var(--fill-color);\n",
              "      border-top-color: var(--fill-color);\n",
              "    }\n",
              "    30% {\n",
              "      border-color: transparent;\n",
              "      border-left-color: var(--fill-color);\n",
              "      border-top-color: var(--fill-color);\n",
              "      border-right-color: var(--fill-color);\n",
              "    }\n",
              "    40% {\n",
              "      border-color: transparent;\n",
              "      border-right-color: var(--fill-color);\n",
              "      border-top-color: var(--fill-color);\n",
              "    }\n",
              "    60% {\n",
              "      border-color: transparent;\n",
              "      border-right-color: var(--fill-color);\n",
              "    }\n",
              "    80% {\n",
              "      border-color: transparent;\n",
              "      border-right-color: var(--fill-color);\n",
              "      border-bottom-color: var(--fill-color);\n",
              "    }\n",
              "    90% {\n",
              "      border-color: transparent;\n",
              "      border-bottom-color: var(--fill-color);\n",
              "    }\n",
              "  }\n",
              "</style>\n",
              "\n",
              "  <script>\n",
              "    async function quickchart(key) {\n",
              "      const quickchartButtonEl =\n",
              "        document.querySelector('#' + key + ' button');\n",
              "      quickchartButtonEl.disabled = true;  // To prevent multiple clicks.\n",
              "      quickchartButtonEl.classList.add('colab-df-spinner');\n",
              "      try {\n",
              "        const charts = await google.colab.kernel.invokeFunction(\n",
              "            'suggestCharts', [key], {});\n",
              "      } catch (error) {\n",
              "        console.error('Error during call to suggestCharts:', error);\n",
              "      }\n",
              "      quickchartButtonEl.classList.remove('colab-df-spinner');\n",
              "      quickchartButtonEl.classList.add('colab-df-quickchart-complete');\n",
              "    }\n",
              "    (() => {\n",
              "      let quickchartButtonEl =\n",
              "        document.querySelector('#df-83aea4cc-0e02-4343-9b3f-01c3b13d314c button');\n",
              "      quickchartButtonEl.style.display =\n",
              "        google.colab.kernel.accessAllowed ? 'block' : 'none';\n",
              "    })();\n",
              "  </script>\n",
              "</div>\n",
              "    </div>\n",
              "  </div>\n"
            ]
          },
          "metadata": {},
          "execution_count": 17
        }
      ],
      "source": [
        "# at what index duplicated user_id is\n",
        "df2[df2.user_id.duplicated(keep=False)]"
      ]
    },
    {
      "cell_type": "markdown",
      "metadata": {
        "id": "RybXR44woYSc"
      },
      "source": [
        "d. Remove **one** of the rows with a duplicate **user_id**, but keep your dataframe as **df2**."
      ]
    },
    {
      "cell_type": "code",
      "execution_count": 18,
      "metadata": {
        "collapsed": true,
        "id": "TV_ad3eyoYSc"
      },
      "outputs": [],
      "source": [
        "# we can remove duplicates in multiple ways\n",
        "# removing by index, removing by first or last entry as well as by unique column timestamp\n",
        "df2 = df2[df2.timestamp != '2017-01-09 05:37:58.781806']"
      ]
    },
    {
      "cell_type": "code",
      "execution_count": 19,
      "metadata": {
        "colab": {
          "base_uri": "https://localhost:8080/"
        },
        "id": "ma00Up58oYSd",
        "outputId": "7b157290-0438-4002-8424-6bfd1d860ee6"
      },
      "outputs": [
        {
          "output_type": "execute_result",
          "data": {
            "text/plain": [
              "191571"
            ]
          },
          "metadata": {},
          "execution_count": 19
        }
      ],
      "source": [
        "# quick sanity check\n",
        "df2.user_id.nunique()"
      ]
    },
    {
      "cell_type": "markdown",
      "metadata": {
        "id": "viA98kcAoYSd"
      },
      "source": [
        "`4.` Use **df2** in the below cells to answer the quiz questions related to **Quiz 4** in the classroom.\n",
        "\n",
        "a. What is the probability of an individual converting regardless of the page they receive?"
      ]
    },
    {
      "cell_type": "code",
      "execution_count": 20,
      "metadata": {
        "colab": {
          "base_uri": "https://localhost:8080/"
        },
        "id": "cw33hQdooYSe",
        "outputId": "924dfeba-3550-40d0-9a73-4acefeb46231"
      },
      "outputs": [
        {
          "output_type": "execute_result",
          "data": {
            "text/plain": [
              "0.1199450856340469"
            ]
          },
          "metadata": {},
          "execution_count": 20
        }
      ],
      "source": [
        "df2.converted.mean()\n",
        "\n",
        "# alternatively\n",
        "df2.describe().loc['mean'].converted"
      ]
    },
    {
      "cell_type": "markdown",
      "metadata": {
        "id": "iJ8qrL6goYSe"
      },
      "source": [
        "b. Given that an individual was in the `control` group, what is the probability they converted?"
      ]
    },
    {
      "cell_type": "code",
      "execution_count": 21,
      "metadata": {
        "colab": {
          "base_uri": "https://localhost:8080/"
        },
        "id": "rgcEgmo3oYSe",
        "outputId": "9895d371-26b1-401c-c7d2-518835313cb7"
      },
      "outputs": [
        {
          "output_type": "execute_result",
          "data": {
            "text/plain": [
              "0.12087061972066572"
            ]
          },
          "metadata": {},
          "execution_count": 21
        }
      ],
      "source": [
        "# logic: query the converted column where group column value is control and take mean\n",
        "df2.converted[df2.group == 'control'].mean()"
      ]
    },
    {
      "cell_type": "markdown",
      "metadata": {
        "id": "zBimRyfyoYSf"
      },
      "source": [
        "c. Given that an individual was in the `treatment` group, what is the probability they converted?"
      ]
    },
    {
      "cell_type": "code",
      "execution_count": 22,
      "metadata": {
        "colab": {
          "base_uri": "https://localhost:8080/"
        },
        "id": "Ww0OhnQqoYSf",
        "outputId": "a0178d2a-36ee-4194-939f-ba369d7efd3c"
      },
      "outputs": [
        {
          "output_type": "execute_result",
          "data": {
            "text/plain": [
              "0.11902205077412292"
            ]
          },
          "metadata": {},
          "execution_count": 22
        }
      ],
      "source": [
        "# same logic as above, here we do it for treatment instead of control\n",
        "df2.converted[df2.group == 'treatment'].mean()"
      ]
    },
    {
      "cell_type": "markdown",
      "metadata": {
        "id": "Nan1lYb-oYSg"
      },
      "source": [
        "d. What is the probability that an individual received the new page?"
      ]
    },
    {
      "cell_type": "code",
      "execution_count": 23,
      "metadata": {
        "colab": {
          "base_uri": "https://localhost:8080/"
        },
        "id": "tG68n2ruoYSg",
        "outputId": "d829249b-4a0a-4804-dee9-c517ceaef210"
      },
      "outputs": [
        {
          "output_type": "execute_result",
          "data": {
            "text/plain": [
              "user_id         0.500676\n",
              "timestamp       0.500676\n",
              "group           0.500676\n",
              "landing_page    0.500676\n",
              "converted       0.500676\n",
              "dtype: float64"
            ]
          },
          "metadata": {},
          "execution_count": 23
        }
      ],
      "source": [
        "df2[df2.landing_page == 'new_page'].count()/df2.shape[0]"
      ]
    },
    {
      "cell_type": "markdown",
      "metadata": {
        "id": "Fm7BstkEoYSg"
      },
      "source": [
        "e. Use the results in the previous two portions of this question to suggest if you think there is evidence that one page leads to more conversions?  Write your response below."
      ]
    },
    {
      "cell_type": "markdown",
      "metadata": {
        "id": "J1FaBPuUoYSn"
      },
      "source": [
        "\n",
        "- **Given the probability that an individual received the new page is 0.50006, suggests that there is an equal chance that an individual received the old page at the same time. **\n",
        "- **Besides, the probability of conversion from control group and treatment group is almost similar. Just different at 3rd decimal point.**\n",
        "- **Within such circumstances we can not confidently say that one page leads to more conversions. In fact, it is quite the opposite.**"
      ]
    },
    {
      "cell_type": "markdown",
      "metadata": {
        "id": "kmbY8vvhoYSn"
      },
      "source": [
        "<a id='ab_test'></a>\n",
        "### Part II - A/B Test\n",
        "\n",
        "Notice that because of the time stamp associated with each event, you could technically run a hypothesis test continuously as each observation was observed.  \n",
        "\n",
        "However, then the hard question is do you stop as soon as one page is considered significantly better than another or does it need to happen consistently for a certain amount of time?  How long do you run to render a decision that neither page is better than another?  \n",
        "\n",
        "These questions are the difficult parts associated with A/B tests in general.  \n",
        "\n",
        "\n",
        "`1.` For now, consider you need to make the decision just based on all the data provided.  If you want to assume that the old page is better unless the new page proves to be definitely better at a Type I error rate of 5%, what should your null and alternative hypotheses be?  You can state your hypothesis in terms of words or in terms of **$p_{old}$** and **$p_{new}$**, which are the converted rates for the old and new pages."
      ]
    },
    {
      "cell_type": "markdown",
      "metadata": {
        "id": "sZbFOiWCoYSo"
      },
      "source": [
        "**Null Hypothesis: ** The probability of old page better than new page is greater or equal to probability of new page."
      ]
    },
    {
      "cell_type": "markdown",
      "metadata": {
        "id": "utllrAdmoYSo"
      },
      "source": [
        "**Alternative Hypothesis: ** The probability of new page being better than new page is less than that of a new page."
      ]
    },
    {
      "cell_type": "markdown",
      "metadata": {
        "id": "6mJt6FqxoYSo"
      },
      "source": [
        "$$ H_{0} : p_{old} - p_{new} \\geq 0$$\n",
        "$$ H_{A} : p_{old} - p_{new} < 0$$"
      ]
    },
    {
      "cell_type": "markdown",
      "metadata": {
        "id": "GUfippRUoYSo"
      },
      "source": [
        "`2.` Assume under the null hypothesis, $p_{new}$ and $p_{old}$ both have \"true\" success rates equal to the **converted** success rate regardless of page - that is $p_{new}$ and $p_{old}$ are equal. Furthermore, assume they are equal to the **converted** rate in **ab_data.csv** regardless of the page. <br><br>\n",
        "\n",
        "Use a sample size for each page equal to the ones in **ab_data.csv**.  <br><br>\n",
        "\n",
        "Perform the sampling distribution for the difference in **converted** between the two pages over 10,000 iterations of calculating an estimate from the null.  <br><br>"
      ]
    },
    {
      "cell_type": "markdown",
      "metadata": {
        "id": "V6839yK8oYSo"
      },
      "source": [
        "a. What is the **convert rate** for $p_{new}$ under the null?"
      ]
    },
    {
      "cell_type": "code",
      "execution_count": 24,
      "metadata": {
        "colab": {
          "base_uri": "https://localhost:8080/"
        },
        "id": "ngzi3wa0oYSo",
        "outputId": "8922422c-b8c9-4e4e-84e8-7a904f31a305"
      },
      "outputs": [
        {
          "output_type": "execute_result",
          "data": {
            "text/plain": [
              "0.1199450856340469"
            ]
          },
          "metadata": {},
          "execution_count": 24
        }
      ],
      "source": [
        "# convert rate is how many users converted (i.e. converted = 1)\n",
        "p_new = df2.converted.mean()\n",
        "p_new"
      ]
    },
    {
      "cell_type": "markdown",
      "metadata": {
        "id": "s8iznJ-GoYSp"
      },
      "source": [
        "b. What is the **convert rate** for $p_{old}$ under the null? <br><br>"
      ]
    },
    {
      "cell_type": "code",
      "execution_count": 25,
      "metadata": {
        "colab": {
          "base_uri": "https://localhost:8080/"
        },
        "id": "2qL4MfdpoYSp",
        "outputId": "5d83ffb8-ba7a-4dc9-f3de-4861d84c79c6"
      },
      "outputs": [
        {
          "output_type": "execute_result",
          "data": {
            "text/plain": [
              "0.1199450856340469"
            ]
          },
          "metadata": {},
          "execution_count": 25
        }
      ],
      "source": [
        "p_old = df2.converted.mean() # the same!!!\n",
        "p_old"
      ]
    },
    {
      "cell_type": "markdown",
      "metadata": {
        "id": "HxbazmImoYSp"
      },
      "source": [
        "c. What is $n_{new}$?"
      ]
    },
    {
      "cell_type": "code",
      "execution_count": 26,
      "metadata": {
        "colab": {
          "base_uri": "https://localhost:8080/"
        },
        "id": "Q3DGSWQ-oYSp",
        "outputId": "078ed238-15f6-44fb-8eae-8c97ecb645c0"
      },
      "outputs": [
        {
          "output_type": "execute_result",
          "data": {
            "text/plain": [
              "95915"
            ]
          },
          "metadata": {},
          "execution_count": 26
        }
      ],
      "source": [
        "# number of users who got the new page (i.e. group = treatment)\n",
        "n_new = df2[df2.group == 'treatment'].count()[0]\n",
        "n_new"
      ]
    },
    {
      "cell_type": "markdown",
      "metadata": {
        "id": "iX59v6rWoYSq"
      },
      "source": [
        "d. What is $n_{old}$?"
      ]
    },
    {
      "cell_type": "code",
      "execution_count": 27,
      "metadata": {
        "colab": {
          "base_uri": "https://localhost:8080/"
        },
        "id": "aFT_t0wXoYSq",
        "outputId": "a3e6fe21-2ba4-4024-cc70-bb319904632f"
      },
      "outputs": [
        {
          "output_type": "execute_result",
          "data": {
            "text/plain": [
              "95656"
            ]
          },
          "metadata": {},
          "execution_count": 27
        }
      ],
      "source": [
        "# number of users who reamined with old page (i.e. group = control)\n",
        "n_old = df2[df2.group == 'control'].count()[0]\n",
        "n_old"
      ]
    },
    {
      "cell_type": "markdown",
      "metadata": {
        "id": "QSDCosPioYSq"
      },
      "source": [
        "e. Simulate $n_{new}$ transactions with a convert rate of $p_{new}$ under the null.  Store these $n_{new}$ 1's and 0's in **new_page_converted**."
      ]
    },
    {
      "cell_type": "markdown",
      "metadata": {
        "id": "MVnQEZ1koYSq"
      },
      "source": [
        "**NOTE: **\n",
        "> - Below few cells will see alternative method, please run both of those in two different runs. They both give different results! <br>\n",
        "> - As a matter of fact they **should not.** <br>\n",
        "> - The difference will be visible in the histogram and in p-value"
      ]
    },
    {
      "cell_type": "code",
      "execution_count": 28,
      "metadata": {
        "colab": {
          "base_uri": "https://localhost:8080/"
        },
        "id": "lghLWQkZoYSq",
        "outputId": "6ef13f85-8775-43f9-9b04-00a52733b41a"
      },
      "outputs": [
        {
          "output_type": "execute_result",
          "data": {
            "text/plain": [
              "0.11986654850649012"
            ]
          },
          "metadata": {},
          "execution_count": 28
        }
      ],
      "source": [
        "# simulating n_new transaction that have probabiliy of receiving new page, using binomial gives the outout as the number of 1's\n",
        "new_page_converted = np.random.binomial(1,p_new,n_new)\n",
        "new_page_converted.mean()"
      ]
    },
    {
      "cell_type": "code",
      "execution_count": 29,
      "metadata": {
        "colab": {
          "base_uri": "https://localhost:8080/"
        },
        "id": "f0-X661uoYSr",
        "outputId": "4ed9acfe-7500-47c2-82cc-408d1da4d7fe"
      },
      "outputs": [
        {
          "output_type": "execute_result",
          "data": {
            "text/plain": [
              "0.11994396601157276"
            ]
          },
          "metadata": {},
          "execution_count": 29
        }
      ],
      "source": [
        "# alternatively\n",
        "new_converted_simulation = np.random.binomial(n_new, p_new, 10000)/n_new\n",
        "new_converted_simulation.mean()"
      ]
    },
    {
      "cell_type": "markdown",
      "metadata": {
        "id": "c1qEFe7hoYSr"
      },
      "source": [
        "f. Simulate $n_{old}$ transactions with a convert rate of $p_{old}$ under the null.  Store these $n_{old}$ 1's and 0's in **old_page_converted**."
      ]
    },
    {
      "cell_type": "code",
      "execution_count": 30,
      "metadata": {
        "scrolled": true,
        "colab": {
          "base_uri": "https://localhost:8080/"
        },
        "id": "IIIJ6_XaoYSr",
        "outputId": "c9e0ebbd-1e7b-4e22-8671-fadfa4800085"
      },
      "outputs": [
        {
          "output_type": "execute_result",
          "data": {
            "text/plain": [
              "0.12025382621058794"
            ]
          },
          "metadata": {},
          "execution_count": 30
        }
      ],
      "source": [
        "# simulating n_new transaction that have probabiliy of having old page, using binomial gives the outout as the number of 1's\n",
        "old_page_converted = np.random.binomial(1,p_old,n_old)\n",
        "old_page_converted.mean()"
      ]
    },
    {
      "cell_type": "code",
      "execution_count": 31,
      "metadata": {
        "colab": {
          "base_uri": "https://localhost:8080/"
        },
        "id": "9HdT2nkwoYSr",
        "outputId": "19632c2a-4eb4-419e-de7e-d59c4cee4e4d"
      },
      "outputs": [
        {
          "output_type": "execute_result",
          "data": {
            "text/plain": [
              "0.1199429685539851"
            ]
          },
          "metadata": {},
          "execution_count": 31
        }
      ],
      "source": [
        "# alternatively\n",
        "old_converted_simulation = np.random.binomial(n_old, p_old, 10000)/n_old\n",
        "old_converted_simulation.mean()"
      ]
    },
    {
      "cell_type": "markdown",
      "metadata": {
        "id": "4boTog4roYSs"
      },
      "source": [
        "g. Find $p_{new}$ - $p_{old}$ for your simulated values from part (e) and (f)."
      ]
    },
    {
      "cell_type": "code",
      "execution_count": 32,
      "metadata": {
        "colab": {
          "base_uri": "https://localhost:8080/"
        },
        "id": "b4fNkC1WoYSs",
        "outputId": "efa6e66e-af20-4a76-e665-785fc721c465"
      },
      "outputs": [
        {
          "output_type": "execute_result",
          "data": {
            "text/plain": [
              "-0.000387277704097827"
            ]
          },
          "metadata": {},
          "execution_count": 32
        }
      ],
      "source": [
        "# probabilty of new and old page based upon simulated values in e. and f.\n",
        "p_new = new_page_converted.mean()\n",
        "p_old = old_page_converted.mean()\n",
        "p_new - p_old"
      ]
    },
    {
      "cell_type": "code",
      "execution_count": 33,
      "metadata": {
        "colab": {
          "base_uri": "https://localhost:8080/"
        },
        "id": "BfSaSSrxoYSs",
        "outputId": "7f1cca59-2137-4200-df37-3b323b18977b"
      },
      "outputs": [
        {
          "output_type": "execute_result",
          "data": {
            "text/plain": [
              "9.974575876509073e-07"
            ]
          },
          "metadata": {},
          "execution_count": 33
        }
      ],
      "source": [
        "# alternatively\n",
        "new_converted_simulation.mean() - old_converted_simulation.mean()"
      ]
    },
    {
      "cell_type": "markdown",
      "metadata": {
        "id": "4NK3ERMyoYSs"
      },
      "source": [
        "h. Simulate 10,000 $p_{new}$ - $p_{old}$ values using this same process similarly to the one you calculated in parts **a. through g.** above.  Store all 10,000 values in **p_diffs**."
      ]
    },
    {
      "cell_type": "code",
      "execution_count": 35,
      "metadata": {
        "collapsed": true,
        "id": "Xy6LD6YToYSs"
      },
      "outputs": [],
      "source": [
        "p_diffs = []\n",
        "for _ in range(10000):\n",
        "    new_page_converted = np.random.binomial(1,p_new,n_new)  # bootstrapping\n",
        "    old_page_converted = np.random.binomial(1,p_old,n_old) # bootstrapping\n",
        "    p_diffs.append(new_page_converted.mean() - old_page_converted.mean())"
      ]
    },
    {
      "cell_type": "code",
      "execution_count": 36,
      "metadata": {
        "collapsed": true,
        "id": "HKP9aTGhoYSt"
      },
      "outputs": [],
      "source": [
        "# alternatively\n",
        "p_diffs_alt = new_converted_simulation - old_converted_simulation"
      ]
    },
    {
      "cell_type": "markdown",
      "metadata": {
        "id": "NwSNVaggoYSt"
      },
      "source": [
        "i. Plot a histogram of the **p_diffs**.  Does this plot look like what you expected?  Use the matching problem in the classroom to assure you fully understand what was computed here."
      ]
    },
    {
      "cell_type": "code",
      "execution_count": 37,
      "metadata": {
        "scrolled": true,
        "colab": {
          "base_uri": "https://localhost:8080/",
          "height": 430
        },
        "id": "QflP6IeVoYSt",
        "outputId": "14c7f81d-95fa-48d8-9f52-ce1799eb7ebc"
      },
      "outputs": [
        {
          "output_type": "display_data",
          "data": {
            "text/plain": [
              "<Figure size 640x480 with 1 Axes>"
            ],
            "image/png": "[encoded data removed]"
          },
          "metadata": {}
        }
      ],
      "source": [
        "# convert p_diffs to numpy array for array based computations in the future\n",
        "p_diffs = np.array(p_diffs)\n",
        "\n",
        "# histogram\n",
        "plt.hist(p_diffs)\n",
        "plt.grid()\n",
        "plt.axvline(p_diffs.mean(), color='r', label='mean')\n",
        "plt.legend();"
      ]
    },
    {
      "cell_type": "code",
      "execution_count": null,
      "metadata": {
        "colab": {
          "base_uri": "https://localhost:8080/",
          "height": 430
        },
        "id": "8AvV3sDXoYSt",
        "outputId": "2e9744a9-8254-44ec-b247-97324b3658b3"
      },
      "outputs": [
        {
          "output_type": "display_data",
          "data": {
            "text/plain": [
              "<Figure size 640x480 with 1 Axes>"
            ],
            "image/png": "[encoded data removed]"
          },
          "metadata": {}
        }
      ],
      "source": [
        "# alternatively\n",
        "# histogram\n",
        "plt.hist(p_diffs_alt)\n",
        "plt.grid()\n",
        "plt.axvline(p_diffs_alt.mean(), color='r', label='mean')\n",
        "plt.legend();"
      ]
    },
    {
      "cell_type": "markdown",
      "metadata": {
        "id": "M7DsR72hoYSu"
      },
      "source": [
        "As expected the mean is very close to 0."
      ]
    },
    {
      "cell_type": "markdown",
      "metadata": {
        "id": "61dJaYOBoYSu"
      },
      "source": [
        "j. What proportion of the **p_diffs** are greater than the actual difference observed in **ab_data.csv**?"
      ]
    },
    {
      "cell_type": "code",
      "execution_count": 38,
      "metadata": {
        "colab": {
          "base_uri": "https://localhost:8080/"
        },
        "id": "WSMiIv50oYSu",
        "outputId": "2bee9896-d871-458c-f41f-3beb4a6ee5ef"
      },
      "outputs": [
        {
          "output_type": "execute_result",
          "data": {
            "text/plain": [
              "0.8402"
            ]
          },
          "metadata": {},
          "execution_count": 38
        }
      ],
      "source": [
        "actual_diff = df2.converted[df2.group == 'treatment'].mean() - df2.converted[df2.group == 'control'].mean()\n",
        "(actual_diff < p_diffs).mean()"
      ]
    },
    {
      "cell_type": "code",
      "execution_count": 39,
      "metadata": {
        "colab": {
          "base_uri": "https://localhost:8080/"
        },
        "id": "SDs1gO2woYSu",
        "outputId": "a2f57b95-690d-4616-83a7-690360b3ac81"
      },
      "outputs": [
        {
          "output_type": "execute_result",
          "data": {
            "text/plain": [
              "0.891"
            ]
          },
          "metadata": {},
          "execution_count": 39
        }
      ],
      "source": [
        "# alternatively\n",
        "actual_diff = df2.converted[df2.group == 'treatment'].mean() - df2.converted[df2.group == 'control'].mean()\n",
        "(actual_diff < p_diffs_alt).mean()"
      ]
    },
    {
      "cell_type": "markdown",
      "metadata": {
        "id": "nQ4WJPRUoYSu"
      },
      "source": [
        "k. In words, explain what you just computed in part **j.**.  What is this value called in scientific studies?  What does this value mean in terms of whether or not there is a difference between the new and old pages?"
      ]
    },
    {
      "cell_type": "markdown",
      "metadata": {
        "id": "Fs16fwteoYSu"
      },
      "source": [
        "- **What we computed in part j. is called p-value in scientific studies.**\n",
        "- **p-value is the probability of observing your statistic (or one more extreme in favor of the alternative) if the null hypothesis is true.**\n",
        "- **In our case the p-value is so big that we can confidently say that we fail to reject null hypothesis**"
      ]
    },
    {
      "cell_type": "markdown",
      "metadata": {
        "id": "e3WVWIHBoYSv"
      },
      "source": [
        "l. We could also use a built-in to achieve similar results.  Though using the built-in might be easier to code, the above portions are a walkthrough of the ideas that are critical to correctly thinking about statistical significance. Fill in the below to calculate the number of conversions for each page, as well as the number of individuals who received each page. Let `n_old` and `n_new` refer the the number of rows associated with the old page and new pages, respectively."
      ]
    },
    {
      "cell_type": "code",
      "execution_count": 40,
      "metadata": {
        "colab": {
          "base_uri": "https://localhost:8080/",
          "height": 206
        },
        "id": "o5JzA0LuoYSv",
        "outputId": "456ae785-54b2-43a0-bd7e-34b1c5a1a066"
      },
      "outputs": [
        {
          "output_type": "execute_result",
          "data": {
            "text/plain": [
              "   user_id                   timestamp      group landing_page  converted\n",
              "0   851104  2017-01-21 22:11:48.556739    control     old_page          0\n",
              "1   804228  2017-01-12 08:01:45.159739    control     old_page          0\n",
              "2   661590  2017-01-11 16:55:06.154213  treatment     new_page          0\n",
              "3   853541  2017-01-08 18:28:03.143765  treatment     new_page          0\n",
              "4   864975  2017-01-21 01:52:26.210827    control     old_page          1"
            ],
            "text/html": [
              "\n",
              "  <div id=\"df-6fbc6b9d-ed69-46cc-9569-f89fc8913518\" class=\"colab-df-container\">\n",
              "    <div>\n",
              "<style scoped>\n",
              "    .dataframe tbody tr th:only-of-type {\n",
              "        vertical-align: middle;\n",
              "    }\n",
              "\n",
              "    .dataframe tbody tr th {\n",
              "        vertical-align: top;\n",
              "    }\n",
              "\n",
              "    .dataframe thead th {\n",
              "        text-align: right;\n",
              "    }\n",
              "</style>\n",
              "<table border=\"1\" class=\"dataframe\">\n",
              "  <thead>\n",
              "    <tr style=\"text-align: right;\">\n",
              "      <th></th>\n",
              "      <th>user_id</th>\n",
              "      <th>timestamp</th>\n",
              "      <th>group</th>\n",
              "      <th>landing_page</th>\n",
              "      <th>converted</th>\n",
              "    </tr>\n",
              "  </thead>\n",
              "  <tbody>\n",
              "    <tr>\n",
              "      <th>0</th>\n",
              "      <td>851104</td>\n",
              "      <td>2017-01-21 22:11:48.556739</td>\n",
              "      <td>control</td>\n",
              "      <td>old_page</td>\n",
              "      <td>0</td>\n",
              "    </tr>\n",
              "    <tr>\n",
              "      <th>1</th>\n",
              "      <td>804228</td>\n",
              "      <td>2017-01-12 08:01:45.159739</td>\n",
              "      <td>control</td>\n",
              "      <td>old_page</td>\n",
              "      <td>0</td>\n",
              "    </tr>\n",
              "    <tr>\n",
              "      <th>2</th>\n",
              "      <td>661590</td>\n",
              "      <td>2017-01-11 16:55:06.154213</td>\n",
              "      <td>treatment</td>\n",
              "      <td>new_page</td>\n",
              "      <td>0</td>\n",
              "    </tr>\n",
              "    <tr>\n",
              "      <th>3</th>\n",
              "      <td>853541</td>\n",
              "      <td>2017-01-08 18:28:03.143765</td>\n",
              "      <td>treatment</td>\n",
              "      <td>new_page</td>\n",
              "      <td>0</td>\n",
              "    </tr>\n",
              "    <tr>\n",
              "      <th>4</th>\n",
              "      <td>864975</td>\n",
              "      <td>2017-01-21 01:52:26.210827</td>\n",
              "      <td>control</td>\n",
              "      <td>old_page</td>\n",
              "      <td>1</td>\n",
              "    </tr>\n",
              "  </tbody>\n",
              "</table>\n",
              "</div>\n",
              "    <div class=\"colab-df-buttons\">\n",
              "\n",
              "  <div class=\"colab-df-container\">\n",
              "    <button class=\"colab-df-convert\" onclick=\"convertToInteractive('df-6fbc6b9d-ed69-46cc-9569-f89fc8913518')\"\n",
              "            title=\"Convert this dataframe to an interactive table.\"\n",
              "            style=\"display:none;\">\n",
              "\n",
              "  <svg xmlns=\"http://www.w3.org/2000/svg\" height=\"24px\" viewBox=\"0 -960 960 960\">\n",
              "    <path d=\"M120-120v-720h720v720H120Zm60-500h600v-160H180v160Zm220 220h160v-160H400v160Zm0 220h160v-160H400v160ZM180-400h160v-160H180v160Zm440 0h160v-160H620v160ZM180-180h160v-160H180v160Zm440 0h160v-160H620v160Z\"/>\n",
              "  </svg>\n",
              "    </button>\n",
              "\n",
              "  <style>\n",
              "    .colab-df-container {\n",
              "      display:flex;\n",
              "      gap: 12px;\n",
              "    }\n",
              "\n",
              "    .colab-df-convert {\n",
              "      background-color: #E8F0FE;\n",
              "      border: none;\n",
              "      border-radius: 50%;\n",
              "      cursor: pointer;\n",
              "      display: none;\n",
              "      fill: #1967D2;\n",
              "      height: 32px;\n",
              "      padding: 0 0 0 0;\n",
              "      width: 32px;\n",
              "    }\n",
              "\n",
              "    .colab-df-convert:hover {\n",
              "      background-color: #E2EBFA;\n",
              "      box-shadow: 0px 1px 2px rgba(60, 64, 67, 0.3), 0px 1px 3px 1px rgba(60, 64, 67, 0.15);\n",
              "      fill: #174EA6;\n",
              "    }\n",
              "\n",
              "    .colab-df-buttons div {\n",
              "      margin-bottom: 4px;\n",
              "    }\n",
              "\n",
              "    [theme=dark] .colab-df-convert {\n",
              "      background-color: #3B4455;\n",
              "      fill: #D2E3FC;\n",
              "    }\n",
              "\n",
              "    [theme=dark] .colab-df-convert:hover {\n",
              "      background-color: #434B5C;\n",
              "      box-shadow: 0px 1px 3px 1px rgba(0, 0, 0, 0.15);\n",
              "      filter: drop-shadow(0px 1px 2px rgba(0, 0, 0, 0.3));\n",
              "      fill: #FFFFFF;\n",
              "    }\n",
              "  </style>\n",
              "\n",
              "    <script>\n",
              "      const buttonEl =\n",
              "        document.querySelector('#df-6fbc6b9d-ed69-46cc-9569-f89fc8913518 button.colab-df-convert');\n",
              "      buttonEl.style.display =\n",
              "        google.colab.kernel.accessAllowed ? 'block' : 'none';\n",
              "\n",
              "      async function convertToInteractive(key) {\n",
              "        const element = document.querySelector('#df-6fbc6b9d-ed69-46cc-9569-f89fc8913518');\n",
              "        const dataTable =\n",
              "          await google.colab.kernel.invokeFunction('convertToInteractive',\n",
              "                                                    [key], {});\n",
              "        if (!dataTable) return;\n",
              "\n",
              "        const docLinkHtml = 'Like what you see? Visit the ' +\n",
              "          '<a target=\"_blank\" href=https://colab.research.google.com/notebooks/data_table.ipynb>data table notebook</a>'\n",
              "          + ' to learn more about interactive tables.';\n",
              "        element.innerHTML = '';\n",
              "        dataTable['output_type'] = 'display_data';\n",
              "        await google.colab.output.renderOutput(dataTable, element);\n",
              "        const docLink = document.createElement('div');\n",
              "        docLink.innerHTML = docLinkHtml;\n",
              "        element.appendChild(docLink);\n",
              "      }\n",
              "    </script>\n",
              "  </div>\n",
              "\n",
              "\n",
              "<div id=\"df-50cd49c5-52a5-4ab7-bfab-9fecfd72ac54\">\n",
              "  <button class=\"colab-df-quickchart\" onclick=\"quickchart('df-50cd49c5-52a5-4ab7-bfab-9fecfd72ac54')\"\n",
              "            title=\"Suggest charts.\"\n",
              "            style=\"display:none;\">\n",
              "\n",
              "<svg xmlns=\"http://www.w3.org/2000/svg\" height=\"24px\"viewBox=\"0 0 24 24\"\n",
              "     width=\"24px\">\n",
              "    <g>\n",
              "        <path d=\"M19 3H5c-1.1 0-2 .9-2 2v14c0 1.1.9 2 2 2h14c1.1 0 2-.9 2-2V5c0-1.1-.9-2-2-2zM9 17H7v-7h2v7zm4 0h-2V7h2v10zm4 0h-2v-4h2v4z\"/>\n",
              "    </g>\n",
              "</svg>\n",
              "  </button>\n",
              "\n",
              "<style>\n",
              "  .colab-df-quickchart {\n",
              "      --bg-color: #E8F0FE;\n",
              "      --fill-color: #1967D2;\n",
              "      --hover-bg-color: #E2EBFA;\n",
              "      --hover-fill-color: #174EA6;\n",
              "      --disabled-fill-color: #AAA;\n",
              "      --disabled-bg-color: #DDD;\n",
              "  }\n",
              "\n",
              "  [theme=dark] .colab-df-quickchart {\n",
              "      --bg-color: #3B4455;\n",
              "      --fill-color: #D2E3FC;\n",
              "      --hover-bg-color: #434B5C;\n",
              "      --hover-fill-color: #FFFFFF;\n",
              "      --disabled-bg-color: #3B4455;\n",
              "      --disabled-fill-color: #666;\n",
              "  }\n",
              "\n",
              "  .colab-df-quickchart {\n",
              "    background-color: var(--bg-color);\n",
              "    border: none;\n",
              "    border-radius: 50%;\n",
              "    cursor: pointer;\n",
              "    display: none;\n",
              "    fill: var(--fill-color);\n",
              "    height: 32px;\n",
              "    padding: 0;\n",
              "    width: 32px;\n",
              "  }\n",
              "\n",
              "  .colab-df-quickchart:hover {\n",
              "    background-color: var(--hover-bg-color);\n",
              "    box-shadow: 0 1px 2px rgba(60, 64, 67, 0.3), 0 1px 3px 1px rgba(60, 64, 67, 0.15);\n",
              "    fill: var(--button-hover-fill-color);\n",
              "  }\n",
              "\n",
              "  .colab-df-quickchart-complete:disabled,\n",
              "  .colab-df-quickchart-complete:disabled:hover {\n",
              "    background-color: var(--disabled-bg-color);\n",
              "    fill: var(--disabled-fill-color);\n",
              "    box-shadow: none;\n",
              "  }\n",
              "\n",
              "  .colab-df-spinner {\n",
              "    border: 2px solid var(--fill-color);\n",
              "    border-color: transparent;\n",
              "    border-bottom-color: var(--fill-color);\n",
              "    animation:\n",
              "      spin 1s steps(1) infinite;\n",
              "  }\n",
              "\n",
              "  @keyframes spin {\n",
              "    0% {\n",
              "      border-color: transparent;\n",
              "      border-bottom-color: var(--fill-color);\n",
              "      border-left-color: var(--fill-color);\n",
              "    }\n",
              "    20% {\n",
              "      border-color: transparent;\n",
              "      border-left-color: var(--fill-color);\n",
              "      border-top-color: var(--fill-color);\n",
              "    }\n",
              "    30% {\n",
              "      border-color: transparent;\n",
              "      border-left-color: var(--fill-color);\n",
              "      border-top-color: var(--fill-color);\n",
              "      border-right-color: var(--fill-color);\n",
              "    }\n",
              "    40% {\n",
              "      border-color: transparent;\n",
              "      border-right-color: var(--fill-color);\n",
              "      border-top-color: var(--fill-color);\n",
              "    }\n",
              "    60% {\n",
              "      border-color: transparent;\n",
              "      border-right-color: var(--fill-color);\n",
              "    }\n",
              "    80% {\n",
              "      border-color: transparent;\n",
              "      border-right-color: var(--fill-color);\n",
              "      border-bottom-color: var(--fill-color);\n",
              "    }\n",
              "    90% {\n",
              "      border-color: transparent;\n",
              "      border-bottom-color: var(--fill-color);\n",
              "    }\n",
              "  }\n",
              "</style>\n",
              "\n",
              "  <script>\n",
              "    async function quickchart(key) {\n",
              "      const quickchartButtonEl =\n",
              "        document.querySelector('#' + key + ' button');\n",
              "      quickchartButtonEl.disabled = true;  // To prevent multiple clicks.\n",
              "      quickchartButtonEl.classList.add('colab-df-spinner');\n",
              "      try {\n",
              "        const charts = await google.colab.kernel.invokeFunction(\n",
              "            'suggestCharts', [key], {});\n",
              "      } catch (error) {\n",
              "        console.error('Error during call to suggestCharts:', error);\n",
              "      }\n",
              "      quickchartButtonEl.classList.remove('colab-df-spinner');\n",
              "      quickchartButtonEl.classList.add('colab-df-quickchart-complete');\n",
              "    }\n",
              "    (() => {\n",
              "      let quickchartButtonEl =\n",
              "        document.querySelector('#df-50cd49c5-52a5-4ab7-bfab-9fecfd72ac54 button');\n",
              "      quickchartButtonEl.style.display =\n",
              "        google.colab.kernel.accessAllowed ? 'block' : 'none';\n",
              "    })();\n",
              "  </script>\n",
              "</div>\n",
              "    </div>\n",
              "  </div>\n"
            ]
          },
          "metadata": {},
          "execution_count": 40
        }
      ],
      "source": [
        "# quick check before diving in\n",
        "df2.head()"
      ]
    },
    {
      "cell_type": "code",
      "execution_count": 41,
      "metadata": {
        "id": "Cgx8eTUdoYSv"
      },
      "outputs": [],
      "source": [
        "import statsmodels.api as sm\n",
        "\n",
        "convert_old = df2[df2.group == 'control'].converted.sum()\n",
        "convert_new = df2[df2.group == 'treatment'].converted.sum()\n",
        "n_old = df2[df2.group == 'control'].converted.count()\n",
        "n_new = df2[df2.group == 'treatment'].converted.count()"
      ]
    },
    {
      "cell_type": "markdown",
      "metadata": {
        "id": "2srMpSoioYSv"
      },
      "source": [
        "m. Now use `stats.proportions_ztest` to compute your test statistic and p-value.  [Here](http://knowledgetack.com/python/statsmodels/proportions_ztest/) is a helpful link on using the built in."
      ]
    },
    {
      "cell_type": "markdown",
      "metadata": {
        "id": "lkEbIxcioYSw"
      },
      "source": [
        "From the link, we have all the values required. However, it is worth noticing that the argument alternative in the function is 'two-sided' by default. But our hypothesis is not designed around 'either-or' scenario at this point. Therefore, the argument alternative will be 'smaller', meaning one-tailed experiment. For further reading please refer to [wikipedia](https://en.wikipedia.org/wiki/One-_and_two-tailed_tests)  article. As well as, a great informative [video](https://www.youtube.com/watch?v=fXOS4Q3nJQY) about z-scores."
      ]
    },
    {
      "cell_type": "code",
      "execution_count": 42,
      "metadata": {
        "colab": {
          "base_uri": "https://localhost:8080/"
        },
        "id": "7eJ3PR9LoYSw",
        "outputId": "be95620c-dd9a-4e99-f866-78b690f4915c"
      },
      "outputs": [
        {
          "output_type": "execute_result",
          "data": {
            "text/plain": [
              "(1.2451567525114355, 0.893462931916206)"
            ]
          },
          "metadata": {},
          "execution_count": 42
        }
      ],
      "source": [
        "# based upon the documentation\n",
        "z_score, p_value = sm.stats.proportions_ztest([convert_old, convert_new], [n_old, n_new], alternative='smaller')\n",
        "z_score, p_value"
      ]
    },
    {
      "cell_type": "markdown",
      "metadata": {
        "id": "oogsknzaoYSw"
      },
      "source": [
        "n. What do the z-score and p-value you computed in the previous question mean for the conversion rates of the old and new pages?  Do they agree with the findings in parts **j.** and **k.**?"
      ]
    },
    {
      "cell_type": "markdown",
      "metadata": {
        "id": "cMY0wymvoYSw"
      },
      "source": [
        "- **A z-score represents how many standard deviations away our data point is from the mean**\n",
        "- **A positive z-score suggests that our data point is on the right side of the mean line on the bell curve**\n",
        "- **p-value of 0.9050 is very close to the p-value we computed earlier in part j.**\n",
        "- **With this computation, we can confidently say we fail to reject null hypothesis**"
      ]
    },
    {
      "cell_type": "markdown",
      "metadata": {
        "id": "ceGldo5VoYSw"
      },
      "source": [
        "<a id='regression'></a>\n",
        "### Part III - A regression approach\n",
        "\n",
        "`1.` In this final part, you will see that the result you acheived in the previous A/B test can also be acheived by performing regression.<br><br>\n",
        "\n",
        "a. Since each row is either a conversion or no conversion, what type of regression should you be performing in this case?"
      ]
    },
    {
      "cell_type": "markdown",
      "metadata": {
        "id": "gbWO9L_KoYSx"
      },
      "source": [
        "**This is a case of Logistic Regression. In this scenario, we want to predict something that has only two possible outcomes.**"
      ]
    },
    {
      "cell_type": "markdown",
      "metadata": {
        "id": "vHOPG5wAoYSx"
      },
      "source": [
        "b. The goal is to use **statsmodels** to fit the regression model you specified in part **a.** to see if there is a significant difference in conversion based on which page a customer receives.  However, you first need to create a colun for the intercept, and create a dummy variable column for which page each user received.  Add an **intercept** column, as well as an **ab_page** column, which is 1 when an individual receives the **treatment** and 0 if **control**."
      ]
    },
    {
      "cell_type": "code",
      "execution_count": 43,
      "metadata": {
        "colab": {
          "base_uri": "https://localhost:8080/",
          "height": 206
        },
        "id": "2VZ6Ret9oYSx",
        "outputId": "44bc4b52-99cd-4d75-d4a1-e2ede446579b"
      },
      "outputs": [
        {
          "output_type": "execute_result",
          "data": {
            "text/plain": [
              "   user_id                   timestamp      group landing_page  converted\n",
              "0   851104  2017-01-21 22:11:48.556739    control     old_page          0\n",
              "1   804228  2017-01-12 08:01:45.159739    control     old_page          0\n",
              "2   661590  2017-01-11 16:55:06.154213  treatment     new_page          0\n",
              "3   853541  2017-01-08 18:28:03.143765  treatment     new_page          0\n",
              "4   864975  2017-01-21 01:52:26.210827    control     old_page          1"
            ],
            "text/html": [
              "\n",
              "  <div id=\"df-a1abbb5f-2171-4db3-bd05-e81d42442f19\" class=\"colab-df-container\">\n",
              "    <div>\n",
              "<style scoped>\n",
              "    .dataframe tbody tr th:only-of-type {\n",
              "        vertical-align: middle;\n",
              "    }\n",
              "\n",
              "    .dataframe tbody tr th {\n",
              "        vertical-align: top;\n",
              "    }\n",
              "\n",
              "    .dataframe thead th {\n",
              "        text-align: right;\n",
              "    }\n",
              "</style>\n",
              "<table border=\"1\" class=\"dataframe\">\n",
              "  <thead>\n",
              "    <tr style=\"text-align: right;\">\n",
              "      <th></th>\n",
              "      <th>user_id</th>\n",
              "      <th>timestamp</th>\n",
              "      <th>group</th>\n",
              "      <th>landing_page</th>\n",
              "      <th>converted</th>\n",
              "    </tr>\n",
              "  </thead>\n",
              "  <tbody>\n",
              "    <tr>\n",
              "      <th>0</th>\n",
              "      <td>851104</td>\n",
              "      <td>2017-01-21 22:11:48.556739</td>\n",
              "      <td>control</td>\n",
              "      <td>old_page</td>\n",
              "      <td>0</td>\n",
              "    </tr>\n",
              "    <tr>\n",
              "      <th>1</th>\n",
              "      <td>804228</td>\n",
              "      <td>2017-01-12 08:01:45.159739</td>\n",
              "      <td>control</td>\n",
              "      <td>old_page</td>\n",
              "      <td>0</td>\n",
              "    </tr>\n",
              "    <tr>\n",
              "      <th>2</th>\n",
              "      <td>661590</td>\n",
              "      <td>2017-01-11 16:55:06.154213</td>\n",
              "      <td>treatment</td>\n",
              "      <td>new_page</td>\n",
              "      <td>0</td>\n",
              "    </tr>\n",
              "    <tr>\n",
              "      <th>3</th>\n",
              "      <td>853541</td>\n",
              "      <td>2017-01-08 18:28:03.143765</td>\n",
              "      <td>treatment</td>\n",
              "      <td>new_page</td>\n",
              "      <td>0</td>\n",
              "    </tr>\n",
              "    <tr>\n",
              "      <th>4</th>\n",
              "      <td>864975</td>\n",
              "      <td>2017-01-21 01:52:26.210827</td>\n",
              "      <td>control</td>\n",
              "      <td>old_page</td>\n",
              "      <td>1</td>\n",
              "    </tr>\n",
              "  </tbody>\n",
              "</table>\n",
              "</div>\n",
              "    <div class=\"colab-df-buttons\">\n",
              "\n",
              "  <div class=\"colab-df-container\">\n",
              "    <button class=\"colab-df-convert\" onclick=\"convertToInteractive('df-a1abbb5f-2171-4db3-bd05-e81d42442f19')\"\n",
              "            title=\"Convert this dataframe to an interactive table.\"\n",
              "            style=\"display:none;\">\n",
              "\n",
              "  <svg xmlns=\"http://www.w3.org/2000/svg\" height=\"24px\" viewBox=\"0 -960 960 960\">\n",
              "    <path d=\"M120-120v-720h720v720H120Zm60-500h600v-160H180v160Zm220 220h160v-160H400v160Zm0 220h160v-160H400v160ZM180-400h160v-160H180v160Zm440 0h160v-160H620v160ZM180-180h160v-160H180v160Zm440 0h160v-160H620v160Z\"/>\n",
              "  </svg>\n",
              "    </button>\n",
              "\n",
              "  <style>\n",
              "    .colab-df-container {\n",
              "      display:flex;\n",
              "      gap: 12px;\n",
              "    }\n",
              "\n",
              "    .colab-df-convert {\n",
              "      background-color: #E8F0FE;\n",
              "      border: none;\n",
              "      border-radius: 50%;\n",
              "      cursor: pointer;\n",
              "      display: none;\n",
              "      fill: #1967D2;\n",
              "      height: 32px;\n",
              "      padding: 0 0 0 0;\n",
              "      width: 32px;\n",
              "    }\n",
              "\n",
              "    .colab-df-convert:hover {\n",
              "      background-color: #E2EBFA;\n",
              "      box-shadow: 0px 1px 2px rgba(60, 64, 67, 0.3), 0px 1px 3px 1px rgba(60, 64, 67, 0.15);\n",
              "      fill: #174EA6;\n",
              "    }\n",
              "\n",
              "    .colab-df-buttons div {\n",
              "      margin-bottom: 4px;\n",
              "    }\n",
              "\n",
              "    [theme=dark] .colab-df-convert {\n",
              "      background-color: #3B4455;\n",
              "      fill: #D2E3FC;\n",
              "    }\n",
              "\n",
              "    [theme=dark] .colab-df-convert:hover {\n",
              "      background-color: #434B5C;\n",
              "      box-shadow: 0px 1px 3px 1px rgba(0, 0, 0, 0.15);\n",
              "      filter: drop-shadow(0px 1px 2px rgba(0, 0, 0, 0.3));\n",
              "      fill: #FFFFFF;\n",
              "    }\n",
              "  </style>\n",
              "\n",
              "    <script>\n",
              "      const buttonEl =\n",
              "        document.querySelector('#df-a1abbb5f-2171-4db3-bd05-e81d42442f19 button.colab-df-convert');\n",
              "      buttonEl.style.display =\n",
              "        google.colab.kernel.accessAllowed ? 'block' : 'none';\n",
              "\n",
              "      async function convertToInteractive(key) {\n",
              "        const element = document.querySelector('#df-a1abbb5f-2171-4db3-bd05-e81d42442f19');\n",
              "        const dataTable =\n",
              "          await google.colab.kernel.invokeFunction('convertToInteractive',\n",
              "                                                    [key], {});\n",
              "        if (!dataTable) return;\n",
              "\n",
              "        const docLinkHtml = 'Like what you see? Visit the ' +\n",
              "          '<a target=\"_blank\" href=https://colab.research.google.com/notebooks/data_table.ipynb>data table notebook</a>'\n",
              "          + ' to learn more about interactive tables.';\n",
              "        element.innerHTML = '';\n",
              "        dataTable['output_type'] = 'display_data';\n",
              "        await google.colab.output.renderOutput(dataTable, element);\n",
              "        const docLink = document.createElement('div');\n",
              "        docLink.innerHTML = docLinkHtml;\n",
              "        element.appendChild(docLink);\n",
              "      }\n",
              "    </script>\n",
              "  </div>\n",
              "\n",
              "\n",
              "<div id=\"df-c1e10ec8-dd77-4703-8939-6034d2b19375\">\n",
              "  <button class=\"colab-df-quickchart\" onclick=\"quickchart('df-c1e10ec8-dd77-4703-8939-6034d2b19375')\"\n",
              "            title=\"Suggest charts.\"\n",
              "            style=\"display:none;\">\n",
              "\n",
              "<svg xmlns=\"http://www.w3.org/2000/svg\" height=\"24px\"viewBox=\"0 0 24 24\"\n",
              "     width=\"24px\">\n",
              "    <g>\n",
              "        <path d=\"M19 3H5c-1.1 0-2 .9-2 2v14c0 1.1.9 2 2 2h14c1.1 0 2-.9 2-2V5c0-1.1-.9-2-2-2zM9 17H7v-7h2v7zm4 0h-2V7h2v10zm4 0h-2v-4h2v4z\"/>\n",
              "    </g>\n",
              "</svg>\n",
              "  </button>\n",
              "\n",
              "<style>\n",
              "  .colab-df-quickchart {\n",
              "      --bg-color: #E8F0FE;\n",
              "      --fill-color: #1967D2;\n",
              "      --hover-bg-color: #E2EBFA;\n",
              "      --hover-fill-color: #174EA6;\n",
              "      --disabled-fill-color: #AAA;\n",
              "      --disabled-bg-color: #DDD;\n",
              "  }\n",
              "\n",
              "  [theme=dark] .colab-df-quickchart {\n",
              "      --bg-color: #3B4455;\n",
              "      --fill-color: #D2E3FC;\n",
              "      --hover-bg-color: #434B5C;\n",
              "      --hover-fill-color: #FFFFFF;\n",
              "      --disabled-bg-color: #3B4455;\n",
              "      --disabled-fill-color: #666;\n",
              "  }\n",
              "\n",
              "  .colab-df-quickchart {\n",
              "    background-color: var(--bg-color);\n",
              "    border: none;\n",
              "    border-radius: 50%;\n",
              "    cursor: pointer;\n",
              "    display: none;\n",
              "    fill: var(--fill-color);\n",
              "    height: 32px;\n",
              "    padding: 0;\n",
              "    width: 32px;\n",
              "  }\n",
              "\n",
              "  .colab-df-quickchart:hover {\n",
              "    background-color: var(--hover-bg-color);\n",
              "    box-shadow: 0 1px 2px rgba(60, 64, 67, 0.3), 0 1px 3px 1px rgba(60, 64, 67, 0.15);\n",
              "    fill: var(--button-hover-fill-color);\n",
              "  }\n",
              "\n",
              "  .colab-df-quickchart-complete:disabled,\n",
              "  .colab-df-quickchart-complete:disabled:hover {\n",
              "    background-color: var(--disabled-bg-color);\n",
              "    fill: var(--disabled-fill-color);\n",
              "    box-shadow: none;\n",
              "  }\n",
              "\n",
              "  .colab-df-spinner {\n",
              "    border: 2px solid var(--fill-color);\n",
              "    border-color: transparent;\n",
              "    border-bottom-color: var(--fill-color);\n",
              "    animation:\n",
              "      spin 1s steps(1) infinite;\n",
              "  }\n",
              "\n",
              "  @keyframes spin {\n",
              "    0% {\n",
              "      border-color: transparent;\n",
              "      border-bottom-color: var(--fill-color);\n",
              "      border-left-color: var(--fill-color);\n",
              "    }\n",
              "    20% {\n",
              "      border-color: transparent;\n",
              "      border-left-color: var(--fill-color);\n",
              "      border-top-color: var(--fill-color);\n",
              "    }\n",
              "    30% {\n",
              "      border-color: transparent;\n",
              "      border-left-color: var(--fill-color);\n",
              "      border-top-color: var(--fill-color);\n",
              "      border-right-color: var(--fill-color);\n",
              "    }\n",
              "    40% {\n",
              "      border-color: transparent;\n",
              "      border-right-color: var(--fill-color);\n",
              "      border-top-color: var(--fill-color);\n",
              "    }\n",
              "    60% {\n",
              "      border-color: transparent;\n",
              "      border-right-color: var(--fill-color);\n",
              "    }\n",
              "    80% {\n",
              "      border-color: transparent;\n",
              "      border-right-color: var(--fill-color);\n",
              "      border-bottom-color: var(--fill-color);\n",
              "    }\n",
              "    90% {\n",
              "      border-color: transparent;\n",
              "      border-bottom-color: var(--fill-color);\n",
              "    }\n",
              "  }\n",
              "</style>\n",
              "\n",
              "  <script>\n",
              "    async function quickchart(key) {\n",
              "      const quickchartButtonEl =\n",
              "        document.querySelector('#' + key + ' button');\n",
              "      quickchartButtonEl.disabled = true;  // To prevent multiple clicks.\n",
              "      quickchartButtonEl.classList.add('colab-df-spinner');\n",
              "      try {\n",
              "        const charts = await google.colab.kernel.invokeFunction(\n",
              "            'suggestCharts', [key], {});\n",
              "      } catch (error) {\n",
              "        console.error('Error during call to suggestCharts:', error);\n",
              "      }\n",
              "      quickchartButtonEl.classList.remove('colab-df-spinner');\n",
              "      quickchartButtonEl.classList.add('colab-df-quickchart-complete');\n",
              "    }\n",
              "    (() => {\n",
              "      let quickchartButtonEl =\n",
              "        document.querySelector('#df-c1e10ec8-dd77-4703-8939-6034d2b19375 button');\n",
              "      quickchartButtonEl.style.display =\n",
              "        google.colab.kernel.accessAllowed ? 'block' : 'none';\n",
              "    })();\n",
              "  </script>\n",
              "</div>\n",
              "    </div>\n",
              "  </div>\n"
            ]
          },
          "metadata": {},
          "execution_count": 43
        }
      ],
      "source": [
        "# quick consistency check\n",
        "df2.head()"
      ]
    },
    {
      "cell_type": "code",
      "execution_count": 44,
      "metadata": {
        "collapsed": true,
        "id": "kYJ9QnaDoYSx"
      },
      "outputs": [],
      "source": [
        "# copy the dataframe to a new one, for clarity\n",
        "df2_copy = df2.copy()"
      ]
    },
    {
      "cell_type": "code",
      "execution_count": 45,
      "metadata": {
        "colab": {
          "base_uri": "https://localhost:8080/"
        },
        "id": "9LdpwCXCoYSx",
        "outputId": "e9c09cde-5097-4a37-a3a2-230a4c660bdd"
      },
      "outputs": [
        {
          "output_type": "execute_result",
          "data": {
            "text/plain": [
              "True"
            ]
          },
          "metadata": {},
          "execution_count": 45
        }
      ],
      "source": [
        "# another sanity check, if True, go ahead\n",
        "df2_copy.shape == df2.shape"
      ]
    },
    {
      "cell_type": "code",
      "execution_count": 46,
      "metadata": {
        "collapsed": true,
        "id": "KeWp8cQMoYSx"
      },
      "outputs": [],
      "source": [
        "# add an intercept\n",
        "df2_copy['intercept'] = 1\n",
        "\n",
        "# using pd.get_dummies to convert the 'landing_page' and 'group' to 1s and 0s\n",
        "df2_copy[['landing_page_new', 'landing_page_old']] = pd.get_dummies(df2_copy['landing_page'])\n",
        "df2_copy[['ab_page_control','ab_page_treatment']] = pd.get_dummies(df2_copy['group'])"
      ]
    },
    {
      "cell_type": "code",
      "execution_count": 47,
      "metadata": {
        "collapsed": true,
        "id": "kMoQ8S3FoYSy"
      },
      "outputs": [],
      "source": [
        "# here, we will use landing_page_old and ab_page_control as our baselines, therefore remove those\n",
        "df2_copy.drop(['landing_page_old','ab_page_control'], axis=1, inplace=True)"
      ]
    },
    {
      "cell_type": "code",
      "execution_count": 48,
      "metadata": {
        "colab": {
          "base_uri": "https://localhost:8080/",
          "height": 206
        },
        "id": "B5XsZxevoYSy",
        "outputId": "f38ec393-06fd-4b9f-cdb4-600e713467ac"
      },
      "outputs": [
        {
          "output_type": "execute_result",
          "data": {
            "text/plain": [
              "   user_id                   timestamp      group landing_page  converted  \\\n",
              "0   851104  2017-01-21 22:11:48.556739    control     old_page          0   \n",
              "1   804228  2017-01-12 08:01:45.159739    control     old_page          0   \n",
              "2   661590  2017-01-11 16:55:06.154213  treatment     new_page          0   \n",
              "3   853541  2017-01-08 18:28:03.143765  treatment     new_page          0   \n",
              "4   864975  2017-01-21 01:52:26.210827    control     old_page          1   \n",
              "\n",
              "   intercept  landing_page_new  ab_page_treatment  \n",
              "0          1                 0                  0  \n",
              "1          1                 0                  0  \n",
              "2          1                 1                  1  \n",
              "3          1                 1                  1  \n",
              "4          1                 0                  0  "
            ],
            "text/html": [
              "\n",
              "  <div id=\"df-0d3435fd-f097-45f2-aaeb-89d6e7766c82\" class=\"colab-df-container\">\n",
              "    <div>\n",
              "<style scoped>\n",
              "    .dataframe tbody tr th:only-of-type {\n",
              "        vertical-align: middle;\n",
              "    }\n",
              "\n",
              "    .dataframe tbody tr th {\n",
              "        vertical-align: top;\n",
              "    }\n",
              "\n",
              "    .dataframe thead th {\n",
              "        text-align: right;\n",
              "    }\n",
              "</style>\n",
              "<table border=\"1\" class=\"dataframe\">\n",
              "  <thead>\n",
              "    <tr style=\"text-align: right;\">\n",
              "      <th></th>\n",
              "      <th>user_id</th>\n",
              "      <th>timestamp</th>\n",
              "      <th>group</th>\n",
              "      <th>landing_page</th>\n",
              "      <th>converted</th>\n",
              "      <th>intercept</th>\n",
              "      <th>landing_page_new</th>\n",
              "      <th>ab_page_treatment</th>\n",
              "    </tr>\n",
              "  </thead>\n",
              "  <tbody>\n",
              "    <tr>\n",
              "      <th>0</th>\n",
              "      <td>851104</td>\n",
              "      <td>2017-01-21 22:11:48.556739</td>\n",
              "      <td>control</td>\n",
              "      <td>old_page</td>\n",
              "      <td>0</td>\n",
              "      <td>1</td>\n",
              "      <td>0</td>\n",
              "      <td>0</td>\n",
              "    </tr>\n",
              "    <tr>\n",
              "      <th>1</th>\n",
              "      <td>804228</td>\n",
              "      <td>2017-01-12 08:01:45.159739</td>\n",
              "      <td>control</td>\n",
              "      <td>old_page</td>\n",
              "      <td>0</td>\n",
              "      <td>1</td>\n",
              "      <td>0</td>\n",
              "      <td>0</td>\n",
              "    </tr>\n",
              "    <tr>\n",
              "      <th>2</th>\n",
              "      <td>661590</td>\n",
              "      <td>2017-01-11 16:55:06.154213</td>\n",
              "      <td>treatment</td>\n",
              "      <td>new_page</td>\n",
              "      <td>0</td>\n",
              "      <td>1</td>\n",
              "      <td>1</td>\n",
              "      <td>1</td>\n",
              "    </tr>\n",
              "    <tr>\n",
              "      <th>3</th>\n",
              "      <td>853541</td>\n",
              "      <td>2017-01-08 18:28:03.143765</td>\n",
              "      <td>treatment</td>\n",
              "      <td>new_page</td>\n",
              "      <td>0</td>\n",
              "      <td>1</td>\n",
              "      <td>1</td>\n",
              "      <td>1</td>\n",
              "    </tr>\n",
              "    <tr>\n",
              "      <th>4</th>\n",
              "      <td>864975</td>\n",
              "      <td>2017-01-21 01:52:26.210827</td>\n",
              "      <td>control</td>\n",
              "      <td>old_page</td>\n",
              "      <td>1</td>\n",
              "      <td>1</td>\n",
              "      <td>0</td>\n",
              "      <td>0</td>\n",
              "    </tr>\n",
              "  </tbody>\n",
              "</table>\n",
              "</div>\n",
              "    <div class=\"colab-df-buttons\">\n",
              "\n",
              "  <div class=\"colab-df-container\">\n",
              "    <button class=\"colab-df-convert\" onclick=\"convertToInteractive('df-0d3435fd-f097-45f2-aaeb-89d6e7766c82')\"\n",
              "            title=\"Convert this dataframe to an interactive table.\"\n",
              "            style=\"display:none;\">\n",
              "\n",
              "  <svg xmlns=\"http://www.w3.org/2000/svg\" height=\"24px\" viewBox=\"0 -960 960 960\">\n",
              "    <path d=\"M120-120v-720h720v720H120Zm60-500h600v-160H180v160Zm220 220h160v-160H400v160Zm0 220h160v-160H400v160ZM180-400h160v-160H180v160Zm440 0h160v-160H620v160ZM180-180h160v-160H180v160Zm440 0h160v-160H620v160Z\"/>\n",
              "  </svg>\n",
              "    </button>\n",
              "\n",
              "  <style>\n",
              "    .colab-df-container {\n",
              "      display:flex;\n",
              "      gap: 12px;\n",
              "    }\n",
              "\n",
              "    .colab-df-convert {\n",
              "      background-color: #E8F0FE;\n",
              "      border: none;\n",
              "      border-radius: 50%;\n",
              "      cursor: pointer;\n",
              "      display: none;\n",
              "      fill: #1967D2;\n",
              "      height: 32px;\n",
              "      padding: 0 0 0 0;\n",
              "      width: 32px;\n",
              "    }\n",
              "\n",
              "    .colab-df-convert:hover {\n",
              "      background-color: #E2EBFA;\n",
              "      box-shadow: 0px 1px 2px rgba(60, 64, 67, 0.3), 0px 1px 3px 1px rgba(60, 64, 67, 0.15);\n",
              "      fill: #174EA6;\n",
              "    }\n",
              "\n",
              "    .colab-df-buttons div {\n",
              "      margin-bottom: 4px;\n",
              "    }\n",
              "\n",
              "    [theme=dark] .colab-df-convert {\n",
              "      background-color: #3B4455;\n",
              "      fill: #D2E3FC;\n",
              "    }\n",
              "\n",
              "    [theme=dark] .colab-df-convert:hover {\n",
              "      background-color: #434B5C;\n",
              "      box-shadow: 0px 1px 3px 1px rgba(0, 0, 0, 0.15);\n",
              "      filter: drop-shadow(0px 1px 2px rgba(0, 0, 0, 0.3));\n",
              "      fill: #FFFFFF;\n",
              "    }\n",
              "  </style>\n",
              "\n",
              "    <script>\n",
              "      const buttonEl =\n",
              "        document.querySelector('#df-0d3435fd-f097-45f2-aaeb-89d6e7766c82 button.colab-df-convert');\n",
              "      buttonEl.style.display =\n",
              "        google.colab.kernel.accessAllowed ? 'block' : 'none';\n",
              "\n",
              "      async function convertToInteractive(key) {\n",
              "        const element = document.querySelector('#df-0d3435fd-f097-45f2-aaeb-89d6e7766c82');\n",
              "        const dataTable =\n",
              "          await google.colab.kernel.invokeFunction('convertToInteractive',\n",
              "                                                    [key], {});\n",
              "        if (!dataTable) return;\n",
              "\n",
              "        const docLinkHtml = 'Like what you see? Visit the ' +\n",
              "          '<a target=\"_blank\" href=https://colab.research.google.com/notebooks/data_table.ipynb>data table notebook</a>'\n",
              "          + ' to learn more about interactive tables.';\n",
              "        element.innerHTML = '';\n",
              "        dataTable['output_type'] = 'display_data';\n",
              "        await google.colab.output.renderOutput(dataTable, element);\n",
              "        const docLink = document.createElement('div');\n",
              "        docLink.innerHTML = docLinkHtml;\n",
              "        element.appendChild(docLink);\n",
              "      }\n",
              "    </script>\n",
              "  </div>\n",
              "\n",
              "\n",
              "<div id=\"df-0b2fad8f-72dd-453d-bbe0-4c2220baeb9f\">\n",
              "  <button class=\"colab-df-quickchart\" onclick=\"quickchart('df-0b2fad8f-72dd-453d-bbe0-4c2220baeb9f')\"\n",
              "            title=\"Suggest charts.\"\n",
              "            style=\"display:none;\">\n",
              "\n",
              "<svg xmlns=\"http://www.w3.org/2000/svg\" height=\"24px\"viewBox=\"0 0 24 24\"\n",
              "     width=\"24px\">\n",
              "    <g>\n",
              "        <path d=\"M19 3H5c-1.1 0-2 .9-2 2v14c0 1.1.9 2 2 2h14c1.1 0 2-.9 2-2V5c0-1.1-.9-2-2-2zM9 17H7v-7h2v7zm4 0h-2V7h2v10zm4 0h-2v-4h2v4z\"/>\n",
              "    </g>\n",
              "</svg>\n",
              "  </button>\n",
              "\n",
              "<style>\n",
              "  .colab-df-quickchart {\n",
              "      --bg-color: #E8F0FE;\n",
              "      --fill-color: #1967D2;\n",
              "      --hover-bg-color: #E2EBFA;\n",
              "      --hover-fill-color: #174EA6;\n",
              "      --disabled-fill-color: #AAA;\n",
              "      --disabled-bg-color: #DDD;\n",
              "  }\n",
              "\n",
              "  [theme=dark] .colab-df-quickchart {\n",
              "      --bg-color: #3B4455;\n",
              "      --fill-color: #D2E3FC;\n",
              "      --hover-bg-color: #434B5C;\n",
              "      --hover-fill-color: #FFFFFF;\n",
              "      --disabled-bg-color: #3B4455;\n",
              "      --disabled-fill-color: #666;\n",
              "  }\n",
              "\n",
              "  .colab-df-quickchart {\n",
              "    background-color: var(--bg-color);\n",
              "    border: none;\n",
              "    border-radius: 50%;\n",
              "    cursor: pointer;\n",
              "    display: none;\n",
              "    fill: var(--fill-color);\n",
              "    height: 32px;\n",
              "    padding: 0;\n",
              "    width: 32px;\n",
              "  }\n",
              "\n",
              "  .colab-df-quickchart:hover {\n",
              "    background-color: var(--hover-bg-color);\n",
              "    box-shadow: 0 1px 2px rgba(60, 64, 67, 0.3), 0 1px 3px 1px rgba(60, 64, 67, 0.15);\n",
              "    fill: var(--button-hover-fill-color);\n",
              "  }\n",
              "\n",
              "  .colab-df-quickchart-complete:disabled,\n",
              "  .colab-df-quickchart-complete:disabled:hover {\n",
              "    background-color: var(--disabled-bg-color);\n",
              "    fill: var(--disabled-fill-color);\n",
              "    box-shadow: none;\n",
              "  }\n",
              "\n",
              "  .colab-df-spinner {\n",
              "    border: 2px solid var(--fill-color);\n",
              "    border-color: transparent;\n",
              "    border-bottom-color: var(--fill-color);\n",
              "    animation:\n",
              "      spin 1s steps(1) infinite;\n",
              "  }\n",
              "\n",
              "  @keyframes spin {\n",
              "    0% {\n",
              "      border-color: transparent;\n",
              "      border-bottom-color: var(--fill-color);\n",
              "      border-left-color: var(--fill-color);\n",
              "    }\n",
              "    20% {\n",
              "      border-color: transparent;\n",
              "      border-left-color: var(--fill-color);\n",
              "      border-top-color: var(--fill-color);\n",
              "    }\n",
              "    30% {\n",
              "      border-color: transparent;\n",
              "      border-left-color: var(--fill-color);\n",
              "      border-top-color: var(--fill-color);\n",
              "      border-right-color: var(--fill-color);\n",
              "    }\n",
              "    40% {\n",
              "      border-color: transparent;\n",
              "      border-right-color: var(--fill-color);\n",
              "      border-top-color: var(--fill-color);\n",
              "    }\n",
              "    60% {\n",
              "      border-color: transparent;\n",
              "      border-right-color: var(--fill-color);\n",
              "    }\n",
              "    80% {\n",
              "      border-color: transparent;\n",
              "      border-right-color: var(--fill-color);\n",
              "      border-bottom-color: var(--fill-color);\n",
              "    }\n",
              "    90% {\n",
              "      border-color: transparent;\n",
              "      border-bottom-color: var(--fill-color);\n",
              "    }\n",
              "  }\n",
              "</style>\n",
              "\n",
              "  <script>\n",
              "    async function quickchart(key) {\n",
              "      const quickchartButtonEl =\n",
              "        document.querySelector('#' + key + ' button');\n",
              "      quickchartButtonEl.disabled = true;  // To prevent multiple clicks.\n",
              "      quickchartButtonEl.classList.add('colab-df-spinner');\n",
              "      try {\n",
              "        const charts = await google.colab.kernel.invokeFunction(\n",
              "            'suggestCharts', [key], {});\n",
              "      } catch (error) {\n",
              "        console.error('Error during call to suggestCharts:', error);\n",
              "      }\n",
              "      quickchartButtonEl.classList.remove('colab-df-spinner');\n",
              "      quickchartButtonEl.classList.add('colab-df-quickchart-complete');\n",
              "    }\n",
              "    (() => {\n",
              "      let quickchartButtonEl =\n",
              "        document.querySelector('#df-0b2fad8f-72dd-453d-bbe0-4c2220baeb9f button');\n",
              "      quickchartButtonEl.style.display =\n",
              "        google.colab.kernel.accessAllowed ? 'block' : 'none';\n",
              "    })();\n",
              "  </script>\n",
              "</div>\n",
              "    </div>\n",
              "  </div>\n"
            ]
          },
          "metadata": {},
          "execution_count": 48
        }
      ],
      "source": [
        "df2_copy.head()"
      ]
    },
    {
      "cell_type": "markdown",
      "metadata": {
        "id": "RHw4TI2goYSy"
      },
      "source": [
        "c. Use **statsmodels** to import your regression model.  Instantiate the model, and fit the model using the two columns you created in part **b.** to predict whether or not an individual converts."
      ]
    },
    {
      "cell_type": "code",
      "execution_count": 49,
      "metadata": {
        "colab": {
          "base_uri": "https://localhost:8080/"
        },
        "id": "XzxXwR9SoYSy",
        "outputId": "7a05ea1d-c010-410b-dc46-75d91bfa288b"
      },
      "outputs": [
        {
          "output_type": "stream",
          "name": "stdout",
          "text": [
            "Optimization terminated successfully.\n",
            "         Current function value: 0.366812\n",
            "         Iterations 6\n"
          ]
        }
      ],
      "source": [
        "logit_mod = sm.Logit(df2_copy['converted'], df2_copy[['intercept', 'ab_page_treatment']])\n",
        "results = logit_mod.fit()"
      ]
    },
    {
      "cell_type": "markdown",
      "metadata": {
        "id": "Fpz3y9CXoYSy"
      },
      "source": [
        "d. Provide the summary of your model below, and use it as necessary to answer the following questions."
      ]
    },
    {
      "cell_type": "code",
      "execution_count": 50,
      "metadata": {
        "scrolled": true,
        "colab": {
          "base_uri": "https://localhost:8080/",
          "height": 247
        },
        "id": "sN4N0onZoYSz",
        "outputId": "d48f4d58-d64d-410b-e47b-69f5612912f8"
      },
      "outputs": [
        {
          "output_type": "execute_result",
          "data": {
            "text/plain": [
              "<class 'statsmodels.iolib.summary.Summary'>\n",
              "\"\"\"\n",
              "                           Logit Regression Results                           \n",
              "==============================================================================\n",
              "Dep. Variable:              converted   No. Observations:               191571\n",
              "Model:                          Logit   Df Residuals:                   191569\n",
              "Method:                           MLE   Df Model:                            1\n",
              "Date:                Thu, 26 Oct 2023   Pseudo R-squ.:               1.103e-05\n",
              "Time:                        14:58:37   Log-Likelihood:                -70270.\n",
              "converged:                       True   LL-Null:                       -70271.\n",
              "Covariance Type:            nonrobust   LLR p-value:                    0.2131\n",
              "=====================================================================================\n",
              "                        coef    std err          z      P>|z|      [0.025      0.975]\n",
              "-------------------------------------------------------------------------------------\n",
              "intercept            -1.9842      0.010   -200.046      0.000      -2.004      -1.965\n",
              "ab_page_treatment    -0.0175      0.014     -1.245      0.213      -0.045       0.010\n",
              "=====================================================================================\n",
              "\"\"\""
            ],
            "text/html": [
              "<table class=\"simpletable\">\n",
              "<caption>Logit Regression Results</caption>\n",
              "<tr>\n",
              "  <th>Dep. Variable:</th>       <td>converted</td>    <th>  No. Observations:  </th>  <td>191571</td>  \n",
              "</tr>\n",
              "<tr>\n",
              "  <th>Model:</th>                 <td>Logit</td>      <th>  Df Residuals:      </th>  <td>191569</td>  \n",
              "</tr>\n",
              "<tr>\n",
              "  <th>Method:</th>                 <td>MLE</td>       <th>  Df Model:          </th>  <td>     1</td>  \n",
              "</tr>\n",
              "<tr>\n",
              "  <th>Date:</th>            <td>Thu, 26 Oct 2023</td> <th>  Pseudo R-squ.:     </th> <td>1.103e-05</td>\n",
              "</tr>\n",
              "<tr>\n",
              "  <th>Time:</th>                <td>14:58:37</td>     <th>  Log-Likelihood:    </th> <td> -70270.</td> \n",
              "</tr>\n",
              "<tr>\n",
              "  <th>converged:</th>             <td>True</td>       <th>  LL-Null:           </th> <td> -70271.</td> \n",
              "</tr>\n",
              "<tr>\n",
              "  <th>Covariance Type:</th>     <td>nonrobust</td>    <th>  LLR p-value:       </th>  <td>0.2131</td>  \n",
              "</tr>\n",
              "</table>\n",
              "<table class=\"simpletable\">\n",
              "<tr>\n",
              "          <td></td>             <th>coef</th>     <th>std err</th>      <th>z</th>      <th>P>|z|</th>  <th>[0.025</th>    <th>0.975]</th>  \n",
              "</tr>\n",
              "<tr>\n",
              "  <th>intercept</th>         <td>   -1.9842</td> <td>    0.010</td> <td> -200.046</td> <td> 0.000</td> <td>   -2.004</td> <td>   -1.965</td>\n",
              "</tr>\n",
              "<tr>\n",
              "  <th>ab_page_treatment</th> <td>   -0.0175</td> <td>    0.014</td> <td>   -1.245</td> <td> 0.213</td> <td>   -0.045</td> <td>    0.010</td>\n",
              "</tr>\n",
              "</table>"
            ],
            "text/latex": "\\begin{center}\n\\begin{tabular}{lclc}\n\\toprule\n\\textbf{Dep. Variable:}      &    converted     & \\textbf{  No. Observations:  } &   191571    \\\\\n\\textbf{Model:}              &      Logit       & \\textbf{  Df Residuals:      } &   191569    \\\\\n\\textbf{Method:}             &       MLE        & \\textbf{  Df Model:          } &        1    \\\\\n\\textbf{Date:}               & Thu, 26 Oct 2023 & \\textbf{  Pseudo R-squ.:     } & 1.103e-05   \\\\\n\\textbf{Time:}               &     14:58:37     & \\textbf{  Log-Likelihood:    } &   -70270.   \\\\\n\\textbf{converged:}          &       True       & \\textbf{  LL-Null:           } &   -70271.   \\\\\n\\textbf{Covariance Type:}    &    nonrobust     & \\textbf{  LLR p-value:       } &   0.2131    \\\\\n\\bottomrule\n\\end{tabular}\n\\begin{tabular}{lcccccc}\n                             & \\textbf{coef} & \\textbf{std err} & \\textbf{z} & \\textbf{P$> |$z$|$} & \\textbf{[0.025} & \\textbf{0.975]}  \\\\\n\\midrule\n\\textbf{intercept}           &      -1.9842  &        0.010     &  -200.046  &         0.000        &       -2.004    &       -1.965     \\\\\n\\textbf{ab\\_page\\_treatment} &      -0.0175  &        0.014     &    -1.245  &         0.213        &       -0.045    &        0.010     \\\\\n\\bottomrule\n\\end{tabular}\n%\\caption{Logit Regression Results}\n\\end{center}"
          },
          "metadata": {},
          "execution_count": 50
        }
      ],
      "source": [
        "results.summary()"
      ]
    },
    {
      "cell_type": "code",
      "execution_count": 51,
      "metadata": {
        "scrolled": true,
        "colab": {
          "base_uri": "https://localhost:8080/"
        },
        "id": "b1M40Cb-oYSz",
        "outputId": "ca1f7784-57a4-4c9a-b8d6-d420a010ba99"
      },
      "outputs": [
        {
          "output_type": "execute_result",
          "data": {
            "text/plain": [
              "1.017666699821632"
            ]
          },
          "metadata": {},
          "execution_count": 51
        }
      ],
      "source": [
        "# interprete the coefficients\n",
        "1/np.exp(results.params[1])"
      ]
    },
    {
      "cell_type": "code",
      "execution_count": 52,
      "metadata": {
        "colab": {
          "base_uri": "https://localhost:8080/"
        },
        "id": "4jzZDI9KoYSz",
        "outputId": "a713912c-40c1-443f-e1d3-3e7bb9428378"
      },
      "outputs": [
        {
          "output_type": "execute_result",
          "data": {
            "text/plain": [
              "0.905"
            ]
          },
          "metadata": {},
          "execution_count": 52
        }
      ],
      "source": [
        "# additional: question posed by previous reviewer\n",
        "# how to get p-value as if it were a one-tailed test\n",
        "1-0.190/2"
      ]
    },
    {
      "cell_type": "markdown",
      "metadata": {
        "id": "gBDhiIRpoYSz"
      },
      "source": [
        "- For each 1 unit decrease in `ab_page_treatment`, conversion is 1.015 time likely holding all the other variables constant. Which is not really why we would launch a new_page!"
      ]
    },
    {
      "cell_type": "markdown",
      "metadata": {
        "id": "4GFtW8kZoYSz"
      },
      "source": [
        "e. What is the p-value associated with **ab_page**? Why does it differ from the value you found in the **Part II**?<br><br>  **Hint**: What are the null and alternative hypotheses associated with your regression model, and how do they compare to the null and alternative hypotheses in the **Part II**?"
      ]
    },
    {
      "cell_type": "markdown",
      "metadata": {
        "id": "Hz3WKP1XoYSz"
      },
      "source": [
        "- **As we already built the base for z-score and p-value in part-m, this p-value is different of course.**\n",
        "- **The logistic regression is two-tailed case. We are exploring only two possible outcomes and it can go either way.**\n",
        "- **Interesting part to observe is z-score, absolute of which confirms the number in part-m.**"
      ]
    },
    {
      "cell_type": "markdown",
      "metadata": {
        "id": "9qfxnKf5oYS0"
      },
      "source": [
        "The null and alternative hypothesis associated with regression model will be as following:\n",
        "$$ H_{0}: p_{old} - p_{new} = 0$$\n",
        "$$ H_{0}: p_{old} - p_{new} \\neq 0$$"
      ]
    },
    {
      "cell_type": "code",
      "execution_count": 53,
      "metadata": {
        "colab": {
          "base_uri": "https://localhost:8080/"
        },
        "id": "pky9mv0eoYS0",
        "outputId": "f4a63afe-6656-445f-9b2c-3fbbae3a5864"
      },
      "outputs": [
        {
          "output_type": "execute_result",
          "data": {
            "text/plain": [
              "21.0"
            ]
          },
          "metadata": {},
          "execution_count": 53
        }
      ],
      "source": [
        "# duration of the experiment\n",
        "duration = np.array(pd.to_datetime(df.timestamp).sort_values(ascending=True))\n",
        "td = duration[-1] - duration[0]\n",
        "days = td.astype('timedelta64[D]')\n",
        "days / np.timedelta64(1, 'D')"
      ]
    },
    {
      "cell_type": "markdown",
      "metadata": {
        "id": "hmHpq2knoYS0"
      },
      "source": [
        "f. Now, you are considering other things that might influence whether or not an individual converts.  Discuss why it is a good idea to consider other factors to add into your regression model.  Are there any disadvantages to adding additional terms into your regression model?"
      ]
    },
    {
      "cell_type": "markdown",
      "metadata": {
        "id": "s9SAk7jXoYS0"
      },
      "source": [
        "**There can be many other factors that can be taken into consideration to add into our regression model.**\n",
        "- **One of the first to consider would be the duration. The duration of this experiment was 21 days. Too short, it would be advisable to increase the duration**\n",
        "- **Geographic location is another important factor. If the page is available in multiple languages, for example, it can diversify the sample**\n",
        "- **Parameters like click through rate is another factor to consider**"
      ]
    },
    {
      "cell_type": "markdown",
      "metadata": {
        "id": "reI4LHusoYS0"
      },
      "source": [
        "g. Now along with testing if the conversion rate changes for different pages, also add an effect based on which country a user lives. You will need to read in the **countries.csv** dataset and merge together your datasets on the approporiate rows.  [Here](https://pandas.pydata.org/pandas-docs/stable/generated/pandas.DataFrame.join.html) are the docs for joining tables.\n",
        "\n",
        "Does it appear that country had an impact on conversion?  Don't forget to create dummy variables for these country columns - **Hint: You will need two columns for the three dummy varaibles.** Provide the statistical output as well as a written response to answer this question."
      ]
    },
    {
      "cell_type": "code",
      "execution_count": 55,
      "metadata": {
        "collapsed": true,
        "id": "A34hNa2koYS1"
      },
      "outputs": [],
      "source": [
        "# read file and join the dfs\n",
        "countries_df = pd.read_csv('/content/countries.csv')\n",
        "df_new = countries_df.set_index('user_id').join(df2.set_index('user_id'), how='inner')"
      ]
    },
    {
      "cell_type": "code",
      "execution_count": null,
      "metadata": {
        "scrolled": true,
        "colab": {
          "base_uri": "https://localhost:8080/",
          "height": 238
        },
        "id": "Mo-k0OGUoYS1",
        "outputId": "929ce951-8c04-458b-bf90-ea8b3f8a206c"
      },
      "outputs": [
        {
          "output_type": "execute_result",
          "data": {
            "text/plain": [
              "        country                   timestamp      group landing_page  converted\n",
              "user_id                                                                       \n",
              "711597       UK  2017-01-22 03:14:24.763511    control     old_page        0.0\n",
              "710616       UK  2017-01-16 13:14:44.000513  treatment     new_page        0.0\n",
              "909908       UK  2017-01-06 20:44:26.334764  treatment     new_page        0.0\n",
              "811617       US  2017-01-02 18:42:11.851370  treatment     new_page        1.0\n",
              "887018       US  2017-01-06 11:09:40.487196  treatment     new_page        0.0"
            ],
            "text/html": [
              "\n",
              "  <div id=\"df-095b1948-1880-4236-8cbd-4c4961d91b5f\" class=\"colab-df-container\">\n",
              "    <div>\n",
              "<style scoped>\n",
              "    .dataframe tbody tr th:only-of-type {\n",
              "        vertical-align: middle;\n",
              "    }\n",
              "\n",
              "    .dataframe tbody tr th {\n",
              "        vertical-align: top;\n",
              "    }\n",
              "\n",
              "    .dataframe thead th {\n",
              "        text-align: right;\n",
              "    }\n",
              "</style>\n",
              "<table border=\"1\" class=\"dataframe\">\n",
              "  <thead>\n",
              "    <tr style=\"text-align: right;\">\n",
              "      <th></th>\n",
              "      <th>country</th>\n",
              "      <th>timestamp</th>\n",
              "      <th>group</th>\n",
              "      <th>landing_page</th>\n",
              "      <th>converted</th>\n",
              "    </tr>\n",
              "    <tr>\n",
              "      <th>user_id</th>\n",
              "      <th></th>\n",
              "      <th></th>\n",
              "      <th></th>\n",
              "      <th></th>\n",
              "      <th></th>\n",
              "    </tr>\n",
              "  </thead>\n",
              "  <tbody>\n",
              "    <tr>\n",
              "      <th>711597</th>\n",
              "      <td>UK</td>\n",
              "      <td>2017-01-22 03:14:24.763511</td>\n",
              "      <td>control</td>\n",
              "      <td>old_page</td>\n",
              "      <td>0.0</td>\n",
              "    </tr>\n",
              "    <tr>\n",
              "      <th>710616</th>\n",
              "      <td>UK</td>\n",
              "      <td>2017-01-16 13:14:44.000513</td>\n",
              "      <td>treatment</td>\n",
              "      <td>new_page</td>\n",
              "      <td>0.0</td>\n",
              "    </tr>\n",
              "    <tr>\n",
              "      <th>909908</th>\n",
              "      <td>UK</td>\n",
              "      <td>2017-01-06 20:44:26.334764</td>\n",
              "      <td>treatment</td>\n",
              "      <td>new_page</td>\n",
              "      <td>0.0</td>\n",
              "    </tr>\n",
              "    <tr>\n",
              "      <th>811617</th>\n",
              "      <td>US</td>\n",
              "      <td>2017-01-02 18:42:11.851370</td>\n",
              "      <td>treatment</td>\n",
              "      <td>new_page</td>\n",
              "      <td>1.0</td>\n",
              "    </tr>\n",
              "    <tr>\n",
              "      <th>887018</th>\n",
              "      <td>US</td>\n",
              "      <td>2017-01-06 11:09:40.487196</td>\n",
              "      <td>treatment</td>\n",
              "      <td>new_page</td>\n",
              "      <td>0.0</td>\n",
              "    </tr>\n",
              "  </tbody>\n",
              "</table>\n",
              "</div>\n",
              "    <div class=\"colab-df-buttons\">\n",
              "\n",
              "  <div class=\"colab-df-container\">\n",
              "    <button class=\"colab-df-convert\" onclick=\"convertToInteractive('df-095b1948-1880-4236-8cbd-4c4961d91b5f')\"\n",
              "            title=\"Convert this dataframe to an interactive table.\"\n",
              "            style=\"display:none;\">\n",
              "\n",
              "  <svg xmlns=\"http://www.w3.org/2000/svg\" height=\"24px\" viewBox=\"0 -960 960 960\">\n",
              "    <path d=\"M120-120v-720h720v720H120Zm60-500h600v-160H180v160Zm220 220h160v-160H400v160Zm0 220h160v-160H400v160ZM180-400h160v-160H180v160Zm440 0h160v-160H620v160ZM180-180h160v-160H180v160Zm440 0h160v-160H620v160Z\"/>\n",
              "  </svg>\n",
              "    </button>\n",
              "\n",
              "  <style>\n",
              "    .colab-df-container {\n",
              "      display:flex;\n",
              "      gap: 12px;\n",
              "    }\n",
              "\n",
              "    .colab-df-convert {\n",
              "      background-color: #E8F0FE;\n",
              "      border: none;\n",
              "      border-radius: 50%;\n",
              "      cursor: pointer;\n",
              "      display: none;\n",
              "      fill: #1967D2;\n",
              "      height: 32px;\n",
              "      padding: 0 0 0 0;\n",
              "      width: 32px;\n",
              "    }\n",
              "\n",
              "    .colab-df-convert:hover {\n",
              "      background-color: #E2EBFA;\n",
              "      box-shadow: 0px 1px 2px rgba(60, 64, 67, 0.3), 0px 1px 3px 1px rgba(60, 64, 67, 0.15);\n",
              "      fill: #174EA6;\n",
              "    }\n",
              "\n",
              "    .colab-df-buttons div {\n",
              "      margin-bottom: 4px;\n",
              "    }\n",
              "\n",
              "    [theme=dark] .colab-df-convert {\n",
              "      background-color: #3B4455;\n",
              "      fill: #D2E3FC;\n",
              "    }\n",
              "\n",
              "    [theme=dark] .colab-df-convert:hover {\n",
              "      background-color: #434B5C;\n",
              "      box-shadow: 0px 1px 3px 1px rgba(0, 0, 0, 0.15);\n",
              "      filter: drop-shadow(0px 1px 2px rgba(0, 0, 0, 0.3));\n",
              "      fill: #FFFFFF;\n",
              "    }\n",
              "  </style>\n",
              "\n",
              "    <script>\n",
              "      const buttonEl =\n",
              "        document.querySelector('#df-095b1948-1880-4236-8cbd-4c4961d91b5f button.colab-df-convert');\n",
              "      buttonEl.style.display =\n",
              "        google.colab.kernel.accessAllowed ? 'block' : 'none';\n",
              "\n",
              "      async function convertToInteractive(key) {\n",
              "        const element = document.querySelector('#df-095b1948-1880-4236-8cbd-4c4961d91b5f');\n",
              "        const dataTable =\n",
              "          await google.colab.kernel.invokeFunction('convertToInteractive',\n",
              "                                                    [key], {});\n",
              "        if (!dataTable) return;\n",
              "\n",
              "        const docLinkHtml = 'Like what you see? Visit the ' +\n",
              "          '<a target=\"_blank\" href=https://colab.research.google.com/notebooks/data_table.ipynb>data table notebook</a>'\n",
              "          + ' to learn more about interactive tables.';\n",
              "        element.innerHTML = '';\n",
              "        dataTable['output_type'] = 'display_data';\n",
              "        await google.colab.output.renderOutput(dataTable, element);\n",
              "        const docLink = document.createElement('div');\n",
              "        docLink.innerHTML = docLinkHtml;\n",
              "        element.appendChild(docLink);\n",
              "      }\n",
              "    </script>\n",
              "  </div>\n",
              "\n",
              "\n",
              "<div id=\"df-90bd684a-7971-4cdf-8b25-b9a6f3e365c1\">\n",
              "  <button class=\"colab-df-quickchart\" onclick=\"quickchart('df-90bd684a-7971-4cdf-8b25-b9a6f3e365c1')\"\n",
              "            title=\"Suggest charts.\"\n",
              "            style=\"display:none;\">\n",
              "\n",
              "<svg xmlns=\"http://www.w3.org/2000/svg\" height=\"24px\"viewBox=\"0 0 24 24\"\n",
              "     width=\"24px\">\n",
              "    <g>\n",
              "        <path d=\"M19 3H5c-1.1 0-2 .9-2 2v14c0 1.1.9 2 2 2h14c1.1 0 2-.9 2-2V5c0-1.1-.9-2-2-2zM9 17H7v-7h2v7zm4 0h-2V7h2v10zm4 0h-2v-4h2v4z\"/>\n",
              "    </g>\n",
              "</svg>\n",
              "  </button>\n",
              "\n",
              "<style>\n",
              "  .colab-df-quickchart {\n",
              "      --bg-color: #E8F0FE;\n",
              "      --fill-color: #1967D2;\n",
              "      --hover-bg-color: #E2EBFA;\n",
              "      --hover-fill-color: #174EA6;\n",
              "      --disabled-fill-color: #AAA;\n",
              "      --disabled-bg-color: #DDD;\n",
              "  }\n",
              "\n",
              "  [theme=dark] .colab-df-quickchart {\n",
              "      --bg-color: #3B4455;\n",
              "      --fill-color: #D2E3FC;\n",
              "      --hover-bg-color: #434B5C;\n",
              "      --hover-fill-color: #FFFFFF;\n",
              "      --disabled-bg-color: #3B4455;\n",
              "      --disabled-fill-color: #666;\n",
              "  }\n",
              "\n",
              "  .colab-df-quickchart {\n",
              "    background-color: var(--bg-color);\n",
              "    border: none;\n",
              "    border-radius: 50%;\n",
              "    cursor: pointer;\n",
              "    display: none;\n",
              "    fill: var(--fill-color);\n",
              "    height: 32px;\n",
              "    padding: 0;\n",
              "    width: 32px;\n",
              "  }\n",
              "\n",
              "  .colab-df-quickchart:hover {\n",
              "    background-color: var(--hover-bg-color);\n",
              "    box-shadow: 0 1px 2px rgba(60, 64, 67, 0.3), 0 1px 3px 1px rgba(60, 64, 67, 0.15);\n",
              "    fill: var(--button-hover-fill-color);\n",
              "  }\n",
              "\n",
              "  .colab-df-quickchart-complete:disabled,\n",
              "  .colab-df-quickchart-complete:disabled:hover {\n",
              "    background-color: var(--disabled-bg-color);\n",
              "    fill: var(--disabled-fill-color);\n",
              "    box-shadow: none;\n",
              "  }\n",
              "\n",
              "  .colab-df-spinner {\n",
              "    border: 2px solid var(--fill-color);\n",
              "    border-color: transparent;\n",
              "    border-bottom-color: var(--fill-color);\n",
              "    animation:\n",
              "      spin 1s steps(1) infinite;\n",
              "  }\n",
              "\n",
              "  @keyframes spin {\n",
              "    0% {\n",
              "      border-color: transparent;\n",
              "      border-bottom-color: var(--fill-color);\n",
              "      border-left-color: var(--fill-color);\n",
              "    }\n",
              "    20% {\n",
              "      border-color: transparent;\n",
              "      border-left-color: var(--fill-color);\n",
              "      border-top-color: var(--fill-color);\n",
              "    }\n",
              "    30% {\n",
              "      border-color: transparent;\n",
              "      border-left-color: var(--fill-color);\n",
              "      border-top-color: var(--fill-color);\n",
              "      border-right-color: var(--fill-color);\n",
              "    }\n",
              "    40% {\n",
              "      border-color: transparent;\n",
              "      border-right-color: var(--fill-color);\n",
              "      border-top-color: var(--fill-color);\n",
              "    }\n",
              "    60% {\n",
              "      border-color: transparent;\n",
              "      border-right-color: var(--fill-color);\n",
              "    }\n",
              "    80% {\n",
              "      border-color: transparent;\n",
              "      border-right-color: var(--fill-color);\n",
              "      border-bottom-color: var(--fill-color);\n",
              "    }\n",
              "    90% {\n",
              "      border-color: transparent;\n",
              "      border-bottom-color: var(--fill-color);\n",
              "    }\n",
              "  }\n",
              "</style>\n",
              "\n",
              "  <script>\n",
              "    async function quickchart(key) {\n",
              "      const quickchartButtonEl =\n",
              "        document.querySelector('#' + key + ' button');\n",
              "      quickchartButtonEl.disabled = true;  // To prevent multiple clicks.\n",
              "      quickchartButtonEl.classList.add('colab-df-spinner');\n",
              "      try {\n",
              "        const charts = await google.colab.kernel.invokeFunction(\n",
              "            'suggestCharts', [key], {});\n",
              "      } catch (error) {\n",
              "        console.error('Error during call to suggestCharts:', error);\n",
              "      }\n",
              "      quickchartButtonEl.classList.remove('colab-df-spinner');\n",
              "      quickchartButtonEl.classList.add('colab-df-quickchart-complete');\n",
              "    }\n",
              "    (() => {\n",
              "      let quickchartButtonEl =\n",
              "        document.querySelector('#df-90bd684a-7971-4cdf-8b25-b9a6f3e365c1 button');\n",
              "      quickchartButtonEl.style.display =\n",
              "        google.colab.kernel.accessAllowed ? 'block' : 'none';\n",
              "    })();\n",
              "  </script>\n",
              "</div>\n",
              "    </div>\n",
              "  </div>\n"
            ]
          },
          "metadata": {},
          "execution_count": 52
        }
      ],
      "source": [
        "# quick check\n",
        "df_new.head()"
      ]
    },
    {
      "cell_type": "code",
      "execution_count": 56,
      "metadata": {
        "collapsed": true,
        "id": "u9E4YYuMoYS1"
      },
      "outputs": [],
      "source": [
        "# Create the necessary dummy variables\n",
        "df_new[['canada','uk','us']] = pd.get_dummies(df_new['country'])"
      ]
    },
    {
      "cell_type": "code",
      "execution_count": 57,
      "metadata": {
        "collapsed": true,
        "id": "3kI_0x7GoYS1"
      },
      "outputs": [],
      "source": [
        "# let's consider US being our baseline, therefore, we drop US\n",
        "df_new.drop(['us'], axis=1, inplace=True)"
      ]
    },
    {
      "cell_type": "markdown",
      "metadata": {
        "id": "81ZYpahpoYS1"
      },
      "source": [
        "h. Though you have now looked at the individual factors of country and page on conversion, we would now like to look at an interaction between page and country to see if there significant effects on conversion.  Create the necessary additional columns, and fit the new model.  \n",
        "\n",
        "Provide the summary results, and your conclusions based on the results."
      ]
    },
    {
      "cell_type": "code",
      "execution_count": 58,
      "metadata": {
        "scrolled": true,
        "colab": {
          "base_uri": "https://localhost:8080/",
          "height": 237
        },
        "id": "kErUcRemoYS2",
        "outputId": "3228e73b-0278-4e66-b820-6adaeb907f6d"
      },
      "outputs": [
        {
          "output_type": "execute_result",
          "data": {
            "text/plain": [
              "        country                   timestamp      group landing_page  \\\n",
              "user_id                                                               \n",
              "834778       UK  2017-01-14 23:08:43.304998    control     old_page   \n",
              "928468       US  2017-01-23 14:44:16.387854  treatment     new_page   \n",
              "711597       UK  2017-01-22 03:14:24.763511    control     old_page   \n",
              "710616       UK  2017-01-16 13:14:44.000513  treatment     new_page   \n",
              "909908       UK  2017-01-06 20:44:26.334764  treatment     new_page   \n",
              "\n",
              "         converted  canada  uk  \n",
              "user_id                         \n",
              "834778           0       0   1  \n",
              "928468           0       0   0  \n",
              "711597           0       0   1  \n",
              "710616           0       0   1  \n",
              "909908           0       0   1  "
            ],
            "text/html": [
              "\n",
              "  <div id=\"df-88d7cc60-0c21-4613-a18e-336ba6cb8fb2\" class=\"colab-df-container\">\n",
              "    <div>\n",
              "<style scoped>\n",
              "    .dataframe tbody tr th:only-of-type {\n",
              "        vertical-align: middle;\n",
              "    }\n",
              "\n",
              "    .dataframe tbody tr th {\n",
              "        vertical-align: top;\n",
              "    }\n",
              "\n",
              "    .dataframe thead th {\n",
              "        text-align: right;\n",
              "    }\n",
              "</style>\n",
              "<table border=\"1\" class=\"dataframe\">\n",
              "  <thead>\n",
              "    <tr style=\"text-align: right;\">\n",
              "      <th></th>\n",
              "      <th>country</th>\n",
              "      <th>timestamp</th>\n",
              "      <th>group</th>\n",
              "      <th>landing_page</th>\n",
              "      <th>converted</th>\n",
              "      <th>canada</th>\n",
              "      <th>uk</th>\n",
              "    </tr>\n",
              "    <tr>\n",
              "      <th>user_id</th>\n",
              "      <th></th>\n",
              "      <th></th>\n",
              "      <th></th>\n",
              "      <th></th>\n",
              "      <th></th>\n",
              "      <th></th>\n",
              "      <th></th>\n",
              "    </tr>\n",
              "  </thead>\n",
              "  <tbody>\n",
              "    <tr>\n",
              "      <th>834778</th>\n",
              "      <td>UK</td>\n",
              "      <td>2017-01-14 23:08:43.304998</td>\n",
              "      <td>control</td>\n",
              "      <td>old_page</td>\n",
              "      <td>0</td>\n",
              "      <td>0</td>\n",
              "      <td>1</td>\n",
              "    </tr>\n",
              "    <tr>\n",
              "      <th>928468</th>\n",
              "      <td>US</td>\n",
              "      <td>2017-01-23 14:44:16.387854</td>\n",
              "      <td>treatment</td>\n",
              "      <td>new_page</td>\n",
              "      <td>0</td>\n",
              "      <td>0</td>\n",
              "      <td>0</td>\n",
              "    </tr>\n",
              "    <tr>\n",
              "      <th>711597</th>\n",
              "      <td>UK</td>\n",
              "      <td>2017-01-22 03:14:24.763511</td>\n",
              "      <td>control</td>\n",
              "      <td>old_page</td>\n",
              "      <td>0</td>\n",
              "      <td>0</td>\n",
              "      <td>1</td>\n",
              "    </tr>\n",
              "    <tr>\n",
              "      <th>710616</th>\n",
              "      <td>UK</td>\n",
              "      <td>2017-01-16 13:14:44.000513</td>\n",
              "      <td>treatment</td>\n",
              "      <td>new_page</td>\n",
              "      <td>0</td>\n",
              "      <td>0</td>\n",
              "      <td>1</td>\n",
              "    </tr>\n",
              "    <tr>\n",
              "      <th>909908</th>\n",
              "      <td>UK</td>\n",
              "      <td>2017-01-06 20:44:26.334764</td>\n",
              "      <td>treatment</td>\n",
              "      <td>new_page</td>\n",
              "      <td>0</td>\n",
              "      <td>0</td>\n",
              "      <td>1</td>\n",
              "    </tr>\n",
              "  </tbody>\n",
              "</table>\n",
              "</div>\n",
              "    <div class=\"colab-df-buttons\">\n",
              "\n",
              "  <div class=\"colab-df-container\">\n",
              "    <button class=\"colab-df-convert\" onclick=\"convertToInteractive('df-88d7cc60-0c21-4613-a18e-336ba6cb8fb2')\"\n",
              "            title=\"Convert this dataframe to an interactive table.\"\n",
              "            style=\"display:none;\">\n",
              "\n",
              "  <svg xmlns=\"http://www.w3.org/2000/svg\" height=\"24px\" viewBox=\"0 -960 960 960\">\n",
              "    <path d=\"M120-120v-720h720v720H120Zm60-500h600v-160H180v160Zm220 220h160v-160H400v160Zm0 220h160v-160H400v160ZM180-400h160v-160H180v160Zm440 0h160v-160H620v160ZM180-180h160v-160H180v160Zm440 0h160v-160H620v160Z\"/>\n",
              "  </svg>\n",
              "    </button>\n",
              "\n",
              "  <style>\n",
              "    .colab-df-container {\n",
              "      display:flex;\n",
              "      gap: 12px;\n",
              "    }\n",
              "\n",
              "    .colab-df-convert {\n",
              "      background-color: #E8F0FE;\n",
              "      border: none;\n",
              "      border-radius: 50%;\n",
              "      cursor: pointer;\n",
              "      display: none;\n",
              "      fill: #1967D2;\n",
              "      height: 32px;\n",
              "      padding: 0 0 0 0;\n",
              "      width: 32px;\n",
              "    }\n",
              "\n",
              "    .colab-df-convert:hover {\n",
              "      background-color: #E2EBFA;\n",
              "      box-shadow: 0px 1px 2px rgba(60, 64, 67, 0.3), 0px 1px 3px 1px rgba(60, 64, 67, 0.15);\n",
              "      fill: #174EA6;\n",
              "    }\n",
              "\n",
              "    .colab-df-buttons div {\n",
              "      margin-bottom: 4px;\n",
              "    }\n",
              "\n",
              "    [theme=dark] .colab-df-convert {\n",
              "      background-color: #3B4455;\n",
              "      fill: #D2E3FC;\n",
              "    }\n",
              "\n",
              "    [theme=dark] .colab-df-convert:hover {\n",
              "      background-color: #434B5C;\n",
              "      box-shadow: 0px 1px 3px 1px rgba(0, 0, 0, 0.15);\n",
              "      filter: drop-shadow(0px 1px 2px rgba(0, 0, 0, 0.3));\n",
              "      fill: #FFFFFF;\n",
              "    }\n",
              "  </style>\n",
              "\n",
              "    <script>\n",
              "      const buttonEl =\n",
              "        document.querySelector('#df-88d7cc60-0c21-4613-a18e-336ba6cb8fb2 button.colab-df-convert');\n",
              "      buttonEl.style.display =\n",
              "        google.colab.kernel.accessAllowed ? 'block' : 'none';\n",
              "\n",
              "      async function convertToInteractive(key) {\n",
              "        const element = document.querySelector('#df-88d7cc60-0c21-4613-a18e-336ba6cb8fb2');\n",
              "        const dataTable =\n",
              "          await google.colab.kernel.invokeFunction('convertToInteractive',\n",
              "                                                    [key], {});\n",
              "        if (!dataTable) return;\n",
              "\n",
              "        const docLinkHtml = 'Like what you see? Visit the ' +\n",
              "          '<a target=\"_blank\" href=https://colab.research.google.com/notebooks/data_table.ipynb>data table notebook</a>'\n",
              "          + ' to learn more about interactive tables.';\n",
              "        element.innerHTML = '';\n",
              "        dataTable['output_type'] = 'display_data';\n",
              "        await google.colab.output.renderOutput(dataTable, element);\n",
              "        const docLink = document.createElement('div');\n",
              "        docLink.innerHTML = docLinkHtml;\n",
              "        element.appendChild(docLink);\n",
              "      }\n",
              "    </script>\n",
              "  </div>\n",
              "\n",
              "\n",
              "<div id=\"df-0ef909ed-36c3-4376-b206-dabfaa062681\">\n",
              "  <button class=\"colab-df-quickchart\" onclick=\"quickchart('df-0ef909ed-36c3-4376-b206-dabfaa062681')\"\n",
              "            title=\"Suggest charts.\"\n",
              "            style=\"display:none;\">\n",
              "\n",
              "<svg xmlns=\"http://www.w3.org/2000/svg\" height=\"24px\"viewBox=\"0 0 24 24\"\n",
              "     width=\"24px\">\n",
              "    <g>\n",
              "        <path d=\"M19 3H5c-1.1 0-2 .9-2 2v14c0 1.1.9 2 2 2h14c1.1 0 2-.9 2-2V5c0-1.1-.9-2-2-2zM9 17H7v-7h2v7zm4 0h-2V7h2v10zm4 0h-2v-4h2v4z\"/>\n",
              "    </g>\n",
              "</svg>\n",
              "  </button>\n",
              "\n",
              "<style>\n",
              "  .colab-df-quickchart {\n",
              "      --bg-color: #E8F0FE;\n",
              "      --fill-color: #1967D2;\n",
              "      --hover-bg-color: #E2EBFA;\n",
              "      --hover-fill-color: #174EA6;\n",
              "      --disabled-fill-color: #AAA;\n",
              "      --disabled-bg-color: #DDD;\n",
              "  }\n",
              "\n",
              "  [theme=dark] .colab-df-quickchart {\n",
              "      --bg-color: #3B4455;\n",
              "      --fill-color: #D2E3FC;\n",
              "      --hover-bg-color: #434B5C;\n",
              "      --hover-fill-color: #FFFFFF;\n",
              "      --disabled-bg-color: #3B4455;\n",
              "      --disabled-fill-color: #666;\n",
              "  }\n",
              "\n",
              "  .colab-df-quickchart {\n",
              "    background-color: var(--bg-color);\n",
              "    border: none;\n",
              "    border-radius: 50%;\n",
              "    cursor: pointer;\n",
              "    display: none;\n",
              "    fill: var(--fill-color);\n",
              "    height: 32px;\n",
              "    padding: 0;\n",
              "    width: 32px;\n",
              "  }\n",
              "\n",
              "  .colab-df-quickchart:hover {\n",
              "    background-color: var(--hover-bg-color);\n",
              "    box-shadow: 0 1px 2px rgba(60, 64, 67, 0.3), 0 1px 3px 1px rgba(60, 64, 67, 0.15);\n",
              "    fill: var(--button-hover-fill-color);\n",
              "  }\n",
              "\n",
              "  .colab-df-quickchart-complete:disabled,\n",
              "  .colab-df-quickchart-complete:disabled:hover {\n",
              "    background-color: var(--disabled-bg-color);\n",
              "    fill: var(--disabled-fill-color);\n",
              "    box-shadow: none;\n",
              "  }\n",
              "\n",
              "  .colab-df-spinner {\n",
              "    border: 2px solid var(--fill-color);\n",
              "    border-color: transparent;\n",
              "    border-bottom-color: var(--fill-color);\n",
              "    animation:\n",
              "      spin 1s steps(1) infinite;\n",
              "  }\n",
              "\n",
              "  @keyframes spin {\n",
              "    0% {\n",
              "      border-color: transparent;\n",
              "      border-bottom-color: var(--fill-color);\n",
              "      border-left-color: var(--fill-color);\n",
              "    }\n",
              "    20% {\n",
              "      border-color: transparent;\n",
              "      border-left-color: var(--fill-color);\n",
              "      border-top-color: var(--fill-color);\n",
              "    }\n",
              "    30% {\n",
              "      border-color: transparent;\n",
              "      border-left-color: var(--fill-color);\n",
              "      border-top-color: var(--fill-color);\n",
              "      border-right-color: var(--fill-color);\n",
              "    }\n",
              "    40% {\n",
              "      border-color: transparent;\n",
              "      border-right-color: var(--fill-color);\n",
              "      border-top-color: var(--fill-color);\n",
              "    }\n",
              "    60% {\n",
              "      border-color: transparent;\n",
              "      border-right-color: var(--fill-color);\n",
              "    }\n",
              "    80% {\n",
              "      border-color: transparent;\n",
              "      border-right-color: var(--fill-color);\n",
              "      border-bottom-color: var(--fill-color);\n",
              "    }\n",
              "    90% {\n",
              "      border-color: transparent;\n",
              "      border-bottom-color: var(--fill-color);\n",
              "    }\n",
              "  }\n",
              "</style>\n",
              "\n",
              "  <script>\n",
              "    async function quickchart(key) {\n",
              "      const quickchartButtonEl =\n",
              "        document.querySelector('#' + key + ' button');\n",
              "      quickchartButtonEl.disabled = true;  // To prevent multiple clicks.\n",
              "      quickchartButtonEl.classList.add('colab-df-spinner');\n",
              "      try {\n",
              "        const charts = await google.colab.kernel.invokeFunction(\n",
              "            'suggestCharts', [key], {});\n",
              "      } catch (error) {\n",
              "        console.error('Error during call to suggestCharts:', error);\n",
              "      }\n",
              "      quickchartButtonEl.classList.remove('colab-df-spinner');\n",
              "      quickchartButtonEl.classList.add('colab-df-quickchart-complete');\n",
              "    }\n",
              "    (() => {\n",
              "      let quickchartButtonEl =\n",
              "        document.querySelector('#df-0ef909ed-36c3-4376-b206-dabfaa062681 button');\n",
              "      quickchartButtonEl.style.display =\n",
              "        google.colab.kernel.accessAllowed ? 'block' : 'none';\n",
              "    })();\n",
              "  </script>\n",
              "</div>\n",
              "    </div>\n",
              "  </div>\n"
            ]
          },
          "metadata": {},
          "execution_count": 58
        }
      ],
      "source": [
        "df_new.head()"
      ]
    },
    {
      "cell_type": "code",
      "execution_count": 59,
      "metadata": {
        "colab": {
          "base_uri": "https://localhost:8080/"
        },
        "id": "mtCaY1pWoYS2",
        "outputId": "dd22bd06-37d2-410b-d83b-676707858da0"
      },
      "outputs": [
        {
          "output_type": "stream",
          "name": "stdout",
          "text": [
            "Optimization terminated successfully.\n",
            "         Current function value: 0.366805\n",
            "         Iterations 6\n"
          ]
        }
      ],
      "source": [
        "# fitting linear model\n",
        "df_new['intercept'] = 1\n",
        "\n",
        "logit_mod = sm.Logit(df_new['converted'], df_new[['intercept','canada','uk']])\n",
        "results = logit_mod.fit()"
      ]
    },
    {
      "cell_type": "code",
      "execution_count": 60,
      "metadata": {
        "colab": {
          "base_uri": "https://localhost:8080/",
          "height": 268
        },
        "id": "fGr3dMgYoYS2",
        "outputId": "d3a31231-9577-4cdc-b81d-afbed3c17bae"
      },
      "outputs": [
        {
          "output_type": "execute_result",
          "data": {
            "text/plain": [
              "<class 'statsmodels.iolib.summary.Summary'>\n",
              "\"\"\"\n",
              "                           Logit Regression Results                           \n",
              "==============================================================================\n",
              "Dep. Variable:              converted   No. Observations:               191571\n",
              "Model:                          Logit   Df Residuals:                   191568\n",
              "Method:                           MLE   Df Model:                            2\n",
              "Date:                Thu, 26 Oct 2023   Pseudo R-squ.:               2.828e-05\n",
              "Time:                        15:00:35   Log-Likelihood:                -70269.\n",
              "converged:                       True   LL-Null:                       -70271.\n",
              "Covariance Type:            nonrobust   LLR p-value:                    0.1370\n",
              "==============================================================================\n",
              "                 coef    std err          z      P>|z|      [0.025      0.975]\n",
              "------------------------------------------------------------------------------\n",
              "intercept     -1.9992      0.008   -237.175      0.000      -2.016      -1.983\n",
              "canada        -0.0218      0.033     -0.665      0.506      -0.086       0.042\n",
              "uk             0.0289      0.016      1.777      0.076      -0.003       0.061\n",
              "==============================================================================\n",
              "\"\"\""
            ],
            "text/html": [
              "<table class=\"simpletable\">\n",
              "<caption>Logit Regression Results</caption>\n",
              "<tr>\n",
              "  <th>Dep. Variable:</th>       <td>converted</td>    <th>  No. Observations:  </th>  <td>191571</td>  \n",
              "</tr>\n",
              "<tr>\n",
              "  <th>Model:</th>                 <td>Logit</td>      <th>  Df Residuals:      </th>  <td>191568</td>  \n",
              "</tr>\n",
              "<tr>\n",
              "  <th>Method:</th>                 <td>MLE</td>       <th>  Df Model:          </th>  <td>     2</td>  \n",
              "</tr>\n",
              "<tr>\n",
              "  <th>Date:</th>            <td>Thu, 26 Oct 2023</td> <th>  Pseudo R-squ.:     </th> <td>2.828e-05</td>\n",
              "</tr>\n",
              "<tr>\n",
              "  <th>Time:</th>                <td>15:00:35</td>     <th>  Log-Likelihood:    </th> <td> -70269.</td> \n",
              "</tr>\n",
              "<tr>\n",
              "  <th>converged:</th>             <td>True</td>       <th>  LL-Null:           </th> <td> -70271.</td> \n",
              "</tr>\n",
              "<tr>\n",
              "  <th>Covariance Type:</th>     <td>nonrobust</td>    <th>  LLR p-value:       </th>  <td>0.1370</td>  \n",
              "</tr>\n",
              "</table>\n",
              "<table class=\"simpletable\">\n",
              "<tr>\n",
              "      <td></td>         <th>coef</th>     <th>std err</th>      <th>z</th>      <th>P>|z|</th>  <th>[0.025</th>    <th>0.975]</th>  \n",
              "</tr>\n",
              "<tr>\n",
              "  <th>intercept</th> <td>   -1.9992</td> <td>    0.008</td> <td> -237.175</td> <td> 0.000</td> <td>   -2.016</td> <td>   -1.983</td>\n",
              "</tr>\n",
              "<tr>\n",
              "  <th>canada</th>    <td>   -0.0218</td> <td>    0.033</td> <td>   -0.665</td> <td> 0.506</td> <td>   -0.086</td> <td>    0.042</td>\n",
              "</tr>\n",
              "<tr>\n",
              "  <th>uk</th>        <td>    0.0289</td> <td>    0.016</td> <td>    1.777</td> <td> 0.076</td> <td>   -0.003</td> <td>    0.061</td>\n",
              "</tr>\n",
              "</table>"
            ],
            "text/latex": "\\begin{center}\n\\begin{tabular}{lclc}\n\\toprule\n\\textbf{Dep. Variable:}   &    converted     & \\textbf{  No. Observations:  } &   191571    \\\\\n\\textbf{Model:}           &      Logit       & \\textbf{  Df Residuals:      } &   191568    \\\\\n\\textbf{Method:}          &       MLE        & \\textbf{  Df Model:          } &        2    \\\\\n\\textbf{Date:}            & Thu, 26 Oct 2023 & \\textbf{  Pseudo R-squ.:     } & 2.828e-05   \\\\\n\\textbf{Time:}            &     15:00:35     & \\textbf{  Log-Likelihood:    } &   -70269.   \\\\\n\\textbf{converged:}       &       True       & \\textbf{  LL-Null:           } &   -70271.   \\\\\n\\textbf{Covariance Type:} &    nonrobust     & \\textbf{  LLR p-value:       } &   0.1370    \\\\\n\\bottomrule\n\\end{tabular}\n\\begin{tabular}{lcccccc}\n                   & \\textbf{coef} & \\textbf{std err} & \\textbf{z} & \\textbf{P$> |$z$|$} & \\textbf{[0.025} & \\textbf{0.975]}  \\\\\n\\midrule\n\\textbf{intercept} &      -1.9992  &        0.008     &  -237.175  &         0.000        &       -2.016    &       -1.983     \\\\\n\\textbf{canada}    &      -0.0218  &        0.033     &    -0.665  &         0.506        &       -0.086    &        0.042     \\\\\n\\textbf{uk}        &       0.0289  &        0.016     &     1.777  &         0.076        &       -0.003    &        0.061     \\\\\n\\bottomrule\n\\end{tabular}\n%\\caption{Logit Regression Results}\n\\end{center}"
          },
          "metadata": {},
          "execution_count": 60
        }
      ],
      "source": [
        "results.summary()"
      ]
    },
    {
      "cell_type": "code",
      "execution_count": 61,
      "metadata": {
        "scrolled": true,
        "colab": {
          "base_uri": "https://localhost:8080/"
        },
        "id": "1BZMzHjgoYS2",
        "outputId": "d701f113-2db6-483d-b45c-db68ddc80db1"
      },
      "outputs": [
        {
          "output_type": "execute_result",
          "data": {
            "text/plain": [
              "(1.0416437559600236, 1.0099491671175422)"
            ]
          },
          "metadata": {},
          "execution_count": 61
        }
      ],
      "source": [
        "1/np.exp(-0.0408), np.exp(0.0099)"
      ]
    },
    {
      "cell_type": "markdown",
      "metadata": {
        "id": "vL9EAtBuoYS3"
      },
      "source": [
        "Above results can be read as:\n",
        "- users from uk are 1.009 times more likely to convert as compared to users from us\n",
        "- users from canada are 1.042 times more likely to less convert as compared to users from us"
      ]
    },
    {
      "cell_type": "markdown",
      "metadata": {
        "id": "6jvxoMDHoYS3"
      },
      "source": [
        "<a id='conclusions'></a>\n",
        "## Conclusions\n",
        "\n",
        "Within the framework this project, we tried to understand whether the company should implement a new page or keep the old page with following:\n",
        "- Probability based approach\n",
        "- A/B test\n",
        "- Regression approach\n",
        "\n",
        "**Probability based approach:**\n",
        "  - We found that probability of an individual receiving the new page is 0.5001\n",
        "  - Meaning, there is almost the same chance that an individual received the old page\n",
        "\n",
        "**A/B test:**\n",
        "  - In A/B test we set up our hypothesis to test if new page results in better conversion or not\n",
        "  - We simulated our user groups with respect to conversions\n",
        "  - We found the p_value to be 0.8879\n",
        "  - With such a p-value, we failed to reject null hypothesis\n",
        "  - By using the built-in `stats.proportions_ztest` we computed z-score and p-value which confirmed our earlier p-value and failure to reject null hypothesis\n",
        "  \n",
        "**Regression Approach:**\n",
        "  - We looked at exploring two possible outcomes. Whether new page is better or not.\n",
        "  - With logistic regression results, we again encountered same z-score as well as p-value of 0.190, corresponding two-tailed case\n",
        "  - By further adding geographic location of the users, we tried to find if any specific country had an impact on conversion\n",
        "  - The result gave a similar outlook and suggested that the countries have no impact on the conversion rate.\n",
        "  \n",
        "**Consideration:**\n",
        "  - We also looked at the duration of the experiment (21 days).\n",
        "  - This is a relatively short period of time to run the A/B test.\n",
        "  - Due to Change aversion effect, a group of users may give an unfair advantage to the older page\n",
        "  - Similarly, due to Novelty effect, users may give an unfair advantage to the newer page"
      ]
    },
    {
      "cell_type": "markdown",
      "metadata": {
        "id": "KGso7jD_oYS3"
      },
      "source": [
        "<a id='Resources'></a>\n",
        "## Resources\n",
        "- Numpy timedelta conversion to days: https://stackoverflow.com/questions/18215317/extracting-days-from-a-numpy-timedelta64-value\n",
        "- How to calculate z scores used in statistics class: https://www.youtube.com/watch?v=fXOS4Q3nJQY\n",
        "- Copy pandas dataframe: https://stackoverflow.com/questions/45600342/copy-pandas-dataframe-using-trick\n",
        "- One and two tailed tests: https://en.wikipedia.org/wiki/One-_and_two-tailed_tests\n",
        "- How to correctly interprete p-values: http://blog.minitab.com/blog/adventures-in-statistics-2/how-to-correctly-interpret-p-values"
      ]
    }
  ],
  "metadata": {
    "kernelspec": {
      "display_name": "Python 3",
      "language": "python",
      "name": "python3"
    },
    "language_info": {
      "codemirror_mode": {
        "name": "ipython",
        "version": 3
      },
      "file_extension": ".py",
      "mimetype": "text/x-python",
      "name": "python",
      "nbconvert_exporter": "python",
      "pygments_lexer": "ipython3",
      "version": "3.6.3"
    },
    "colab": {
      "provenance": [],
      "include_colab_link": true
    }
  },
  "nbformat": 4,
  "nbformat_minor": 0
}