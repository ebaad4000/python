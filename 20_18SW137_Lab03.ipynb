{
  "nbformat": 4,
  "nbformat_minor": 0,
  "metadata": {
    "colab": {
      "provenance": [],
      "include_colab_link": true
    },
    "kernelspec": {
      "name": "python3",
      "display_name": "Python 3"
    },
    "language_info": {
      "name": "python"
    }
  },
  "cells": [
    {
      "cell_type": "markdown",
      "metadata": {
        "id": "view-in-github",
        "colab_type": "text"
      },
      "source": [
        "<a href=\"https://colab.research.google.com/github/ebaad4000/python/blob/main/20_18SW137_Lab03.ipynb\" target=\"_parent\"><img src=\"https://colab.research.google.com/assets/colab-badge.svg\" alt=\"Open In Colab\"/></a>"
      ]
    },
    {
      "cell_type": "code",
      "execution_count": null,
      "metadata": {
        "id": "Yx4Gpcdvqfkv"
      },
      "outputs": [],
      "source": [
        "#TASK 1\n",
        "population_density = lambda population, land_area : population/land_area\n",
        "\n",
        "population = int(input(\"Enter population: \"))\n",
        "landArea = float(input(\"Enter Land area: \"))\n",
        "print(str(population_density(population, landArea)))"
      ]
    },
    {
      "cell_type": "code",
      "source": [
        "#TASK 2\n",
        "def readable_timedelta(days):\n",
        "  weeks = int(days/7)\n",
        "  weekDays = days % 7\n",
        "  print(\"{} week(s) and {} day(s)\".format(weeks, weekDays))\n",
        "\n",
        "readable_timedelta(30)"
      ],
      "metadata": {
        "colab": {
          "base_uri": "https://localhost:8080/"
        },
        "id": "T0DtK2aXtGnS",
        "outputId": "f3ff0da9-d3d2-4a0d-95e7-c0a6c350a5ca"
      },
      "execution_count": 6,
      "outputs": [
        {
          "output_type": "stream",
          "name": "stdout",
          "text": [
            "4 week(s) and 2 day(s)\n"
          ]
        }
      ]
    },
    {
      "cell_type": "code",
      "source": [
        "#TASK 3\n",
        "numbers = [[34, 63, 88, 71, 29],[90, 78, 51, 27, 45],[63, 37, 85, 46, 22],[51, 22, 34, 11, 18]]\n",
        "\n",
        "mean = lambda num_list: sum(num_list) / len(num_list)\n",
        "averages = list(map(mean, numbers))\n",
        "print(averages)"
      ],
      "metadata": {
        "colab": {
          "base_uri": "https://localhost:8080/"
        },
        "id": "xpcJ-bpGtzUa",
        "outputId": "0a052c26-f3bf-42ab-e2db-d96e945c9dc0"
      },
      "execution_count": 9,
      "outputs": [
        {
          "output_type": "stream",
          "name": "stdout",
          "text": [
            "[57.0, 58.2, 50.6, 27.2]\n"
          ]
        }
      ]
    },
    {
      "cell_type": "code",
      "source": [
        "#Task 4\n",
        "cities = [\"New York City\", \"Los Angeles\", \"Chicago\", \"Mountain View\", \"Denver\", \"Boston\"]\n",
        "is_short = lambda shortName: len(shortName) > 10\n",
        "\n",
        "short_cities = list(filter(is_short, cities))\n",
        "print(short_cities)"
      ],
      "metadata": {
        "colab": {
          "base_uri": "https://localhost:8080/"
        },
        "id": "U9LwR1s7z5vF",
        "outputId": "7588eefd-448b-461c-9d06-7e47539a9b7b"
      },
      "execution_count": 8,
      "outputs": [
        {
          "output_type": "stream",
          "name": "stdout",
          "text": [
            "['New York City', 'Los Angeles', 'Mountain View']\n"
          ]
        }
      ]
    },
    {
      "cell_type": "code",
      "source": [],
      "metadata": {
        "id": "4Bmpg4tI01rP"
      },
      "execution_count": null,
      "outputs": []
    }
  ]
}