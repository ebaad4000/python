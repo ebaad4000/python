{
  "nbformat": 4,
  "nbformat_minor": 0,
  "metadata": {
    "colab": {
      "provenance": [],
      "include_colab_link": true
    },
    "kernelspec": {
      "name": "python3",
      "display_name": "Python 3"
    },
    "language_info": {
      "name": "python"
    }
  },
  "cells": [
    {
      "cell_type": "markdown",
      "metadata": {
        "id": "view-in-github",
        "colab_type": "text"
      },
      "source": [
        "<a href=\"https://colab.research.google.com/github/ebaad4000/python/blob/main/20_18SW137_Lab03.ipynb\" target=\"_parent\"><img src=\"https://colab.research.google.com/assets/colab-badge.svg\" alt=\"Open In Colab\"/></a>"
      ]
    },
    {
      "cell_type": "code",
      "execution_count": null,
      "metadata": {
        "colab": {
          "base_uri": "https://localhost:8080/"
        },
        "id": "Yx4Gpcdvqfkv",
        "outputId": "5bc79507-625e-4912-f633-7d2a0b5b0038"
      },
      "outputs": [
        {
          "output_type": "stream",
          "name": "stdout",
          "text": [
            "Enter population: 5000\n",
            "Enter Land area: 4000\n",
            "1.25\n"
          ]
        }
      ],
      "source": [
        "#TASK 1\n",
        "population_density = lambda population, land_area : population/land_area\n",
        "\n",
        "population = int(input(\"Enter population: \"))\n",
        "landArea = float(input(\"Enter Land area: \"))\n",
        "print(str(population_density(population, landArea)))"
      ]
    },
    {
      "cell_type": "code",
      "source": [
        "#TASK 2\n",
        "def readable_timedelta(days):\n",
        "  weeks = int(days/7)\n",
        "  weekDays = days % 7\n",
        "  print(\"{} week(s) and {} day(s)\".format(weeks, weekDays))\n",
        "\n",
        "readable_timedelta(30)"
      ],
      "metadata": {
        "colab": {
          "base_uri": "https://localhost:8080/"
        },
        "id": "T0DtK2aXtGnS",
        "outputId": "f3ff0da9-d3d2-4a0d-95e7-c0a6c350a5ca"
      },
      "execution_count": null,
      "outputs": [
        {
          "output_type": "stream",
          "name": "stdout",
          "text": [
            "4 week(s) and 2 day(s)\n"
          ]
        }
      ]
    },
    {
      "cell_type": "code",
      "source": [
        "#TASK 3\n",
        "numbers = [[34, 63, 88, 71, 29],[90, 78, 51, 27, 45],[63, 37, 85, 46, 22],[51, 22, 34, 11, 18]]\n",
        "\n",
        "mean = lambda num_list: sum(num_list) / len(num_list)\n",
        "averages = list(map(mean, numbers))\n",
        "print(averages)"
      ],
      "metadata": {
        "colab": {
          "base_uri": "https://localhost:8080/"
        },
        "id": "xpcJ-bpGtzUa",
        "outputId": "0a052c26-f3bf-42ab-e2db-d96e945c9dc0"
      },
      "execution_count": null,
      "outputs": [
        {
          "output_type": "stream",
          "name": "stdout",
          "text": [
            "[57.0, 58.2, 50.6, 27.2]\n"
          ]
        }
      ]
    },
    {
      "cell_type": "code",
      "source": [
        "#Task 4\n",
        "cities = [\"New York City\", \"Los Angeles\", \"Chicago\", \"Mountain View\", \"Denver\", \"Boston\"]\n",
        "is_short = lambda shortName: len(shortName) > 10\n",
        "\n",
        "short_cities = list(filter(is_short, cities))\n",
        "print(short_cities)"
      ],
      "metadata": {
        "colab": {
          "base_uri": "https://localhost:8080/"
        },
        "id": "U9LwR1s7z5vF",
        "outputId": "7588eefd-448b-461c-9d06-7e47539a9b7b"
      },
      "execution_count": null,
      "outputs": [
        {
          "output_type": "stream",
          "name": "stdout",
          "text": [
            "['New York City', 'Los Angeles', 'Mountain View']\n"
          ]
        }
      ]
    },
    {
      "cell_type": "code",
      "source": [
        "#TASK 5\n",
        "\n",
        "names = input(\"Enter names separated by commas: \").title().split(\",\")\n",
        "assignments = input(\"Enter assignment counts separated by commas: \").split(\",\")\n",
        "grades = input(\"Enter grades separated by commas: \").split(\",\")\n",
        "\n",
        "message = \"Hi {},\\n\\nThis is a reminder that you have {} assignments left to \\\n",
        "submit before you can graduate. You're current grade is {} and can increase \\\n",
        "to {} if you submit all assignments before the due date.\\n\\n\"\n",
        "\n",
        "for name, assignment, grade in zip(names, assignments, grades):\n",
        "    print(message.format(name, assignment, grade, grade + 2 * assignment))"
      ],
      "metadata": {
        "id": "4Bmpg4tI01rP",
        "colab": {
          "base_uri": "https://localhost:8080/"
        },
        "outputId": "a9a09e55-6a52-47a0-cc80-b6a5c6d653ed"
      },
      "execution_count": null,
      "outputs": [
        {
          "output_type": "stream",
          "name": "stdout",
          "text": [
            "Enter names separated by commas: ahmed,bilal,rafay \n",
            "Enter assignment counts separated by commas: 1,2,1\n",
            "Enter grades separated by commas: A,B,A\n",
            "Hi Ahmed,\n",
            "\n",
            "This is a reminder that you have 1 assignments left to submit before you can graduate. You're current grade is A and can increase to A11 if you submit all assignments before the due date.\n",
            "\n",
            "\n",
            "Hi Bilal,\n",
            "\n",
            "This is a reminder that you have 2 assignments left to submit before you can graduate. You're current grade is B and can increase to B22 if you submit all assignments before the due date.\n",
            "\n",
            "\n",
            "Hi Rafay ,\n",
            "\n",
            "This is a reminder that you have 1 assignments left to submit before you can graduate. You're current grade is A and can increase to A11 if you submit all assignments before the due date.\n",
            "\n",
            "\n"
          ]
        }
      ]
    },
    {
      "cell_type": "code",
      "source": [
        "#TASK 6\n",
        "\n",
        "def read_file_without_integer_arg(file_path):\n",
        "    with open(file_path, 'C:\\Users\\Dell city\\Desktop\\6th SEMESTER') as f:\n",
        "        data = f.read()\n",
        "        print(data)\n",
        "\n",
        "def read_file_with_integer_arg(file_path, num_characters):\n",
        "    with open(file_path, 'r') as f:\n",
        "        data = f.read(num_characters)\n",
        "        print(data)\n",
        "\n",
        "file_path = \"example.txt\"\n",
        "\n",
        "# Reading the whole file without passing an integer argument\n",
        "print(\"Reading the whole file:\")\n",
        "read_file_without_integer_arg(file_path)\n",
        "print()\n",
        "\n",
        "# Reading up to 20 characters from the file\n",
        "print(\"Reading up to 20 characters:\")\n",
        "read_file_with_integer_arg(file_path, 20)"
      ],
      "metadata": {
        "id": "JSEhSV_4q_N6"
      },
      "execution_count": null,
      "outputs": []
    },
    {
      "cell_type": "code",
      "source": [
        "#task7\n",
        "def create_cast_list(filename):\n",
        "    cast_list = []\n",
        "    # use with to open the file filename\n",
        "    with open(filename) as f:\n",
        "        # use the for loop syntax to process each line\n",
        "        # and add the actor name to cast_list\n",
        "        for line in f:\n",
        "            line_data = line.split(',')\n",
        "            cast_list.append(line_data[0])\n",
        "    return cast_list\n",
        "\n",
        "\n",
        "print(create_cast_list('flying_circus_cast.txt'))"
      ],
      "metadata": {
        "id": "uOumL32aAEc9"
      },
      "execution_count": null,
      "outputs": []
    }
  ]
}