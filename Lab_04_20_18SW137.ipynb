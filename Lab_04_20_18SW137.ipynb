{
  "nbformat": 4,
  "nbformat_minor": 0,
  "metadata": {
    "colab": {
      "provenance": [],
      "include_colab_link": true
    },
    "kernelspec": {
      "name": "python3",
      "display_name": "Python 3"
    },
    "language_info": {
      "name": "python"
    }
  },
  "cells": [
    {
      "cell_type": "markdown",
      "metadata": {
        "id": "view-in-github",
        "colab_type": "text"
      },
      "source": [
        "<a href=\"https://colab.research.google.com/github/ebaad4000/python/blob/main/Lab_04_20_18SW137.ipynb\" target=\"_parent\"><img src=\"https://colab.research.google.com/assets/colab-badge.svg\" alt=\"Open In Colab\"/></a>"
      ]
    },
    {
      "cell_type": "code",
      "execution_count": 6,
      "metadata": {
        "id": "fOdYeIbZJXYM"
      },
      "outputs": [],
      "source": [
        "import numpy as np"
      ]
    },
    {
      "cell_type": "code",
      "source": [
        "x = np.random.random(100)\n",
        "\n",
        "x"
      ],
      "metadata": {
        "id": "8up1p_-bLHTE",
        "colab": {
          "base_uri": "https://localhost:8080/",
          "height": 0
        },
        "outputId": "d3a27be6-b53d-461c-be6b-83cc532ca50e"
      },
      "execution_count": 7,
      "outputs": [
        {
          "output_type": "execute_result",
          "data": {
            "text/plain": [
              "array([0.64784228, 0.41988325, 0.18878122, 0.01803297, 0.35104383,\n",
              "       0.19485419, 0.64128027, 0.66290587, 0.85674433, 0.35826288,\n",
              "       0.6199534 , 0.15492792, 0.96521677, 0.15920211, 0.83618446,\n",
              "       0.15607473, 0.94353318, 0.27556085, 0.23861253, 0.22814618,\n",
              "       0.39402737, 0.22191571, 0.32150102, 0.12054398, 0.51557709,\n",
              "       0.66705075, 0.67452289, 0.13837936, 0.39654699, 0.76570149,\n",
              "       0.84450422, 0.91485975, 0.79620209, 0.52685414, 0.46258112,\n",
              "       0.75937342, 0.86818216, 0.95903833, 0.06346152, 0.35545507,\n",
              "       0.15230706, 0.09789183, 0.34522053, 0.39587245, 0.20120865,\n",
              "       0.06692539, 0.22351137, 0.10411008, 0.80946004, 0.25370628,\n",
              "       0.66897869, 0.23423876, 0.27494295, 0.07875566, 0.95088984,\n",
              "       0.684038  , 0.1752556 , 0.73306211, 0.92729527, 0.17809045,\n",
              "       0.26242517, 0.31177593, 0.05504317, 0.261121  , 0.25335494,\n",
              "       0.11934821, 0.0772446 , 0.38248498, 0.11587931, 0.89658995,\n",
              "       0.92495339, 0.08205276, 0.97281295, 0.11230313, 0.93991469,\n",
              "       0.34259569, 0.41817683, 0.81382464, 0.86654247, 0.06846597,\n",
              "       0.74438193, 0.23766282, 0.3904849 , 0.81353963, 0.45639581,\n",
              "       0.19986876, 0.53136787, 0.35777621, 0.7701998 , 0.93747288,\n",
              "       0.80188581, 0.53978679, 0.46973862, 0.75843636, 0.70836082,\n",
              "       0.06141287, 0.93748521, 0.40138694, 0.67394067, 0.27789421])"
            ]
          },
          "metadata": {},
          "execution_count": 7
        }
      ]
    },
    {
      "cell_type": "code",
      "source": [
        "v = np.eye(6)"
      ],
      "metadata": {
        "id": "VeaWj_SlNfaJ"
      },
      "execution_count": 8,
      "outputs": []
    },
    {
      "cell_type": "code",
      "source": [
        "v"
      ],
      "metadata": {
        "colab": {
          "base_uri": "https://localhost:8080/"
        },
        "id": "fnXje3ieN9-a",
        "outputId": "c352994a-9f7d-4c52-e779-8c288d53f56a"
      },
      "execution_count": null,
      "outputs": [
        {
          "output_type": "execute_result",
          "data": {
            "text/plain": [
              "array([[1., 0., 0., 0., 0.],\n",
              "       [0., 1., 0., 0., 0.],\n",
              "       [0., 0., 1., 0., 0.],\n",
              "       [0., 0., 0., 1., 0.],\n",
              "       [0., 0., 0., 0., 1.]])"
            ]
          },
          "metadata": {},
          "execution_count": 8
        }
      ]
    },
    {
      "cell_type": "code",
      "source": [
        "b = np.diag(v)"
      ],
      "metadata": {
        "id": "mYrRHrP1N_gu"
      },
      "execution_count": 9,
      "outputs": []
    },
    {
      "cell_type": "code",
      "source": [
        "b"
      ],
      "metadata": {
        "colab": {
          "base_uri": "https://localhost:8080/"
        },
        "id": "XtAKZx0UOdHt",
        "outputId": "7cbbec68-8618-40c7-a51c-9a1705c2d358"
      },
      "execution_count": null,
      "outputs": [
        {
          "output_type": "execute_result",
          "data": {
            "text/plain": [
              "array([1., 1., 1., 1., 1.])"
            ]
          },
          "metadata": {},
          "execution_count": 12
        }
      ]
    },
    {
      "cell_type": "code",
      "source": [
        "n = np.diff(v)"
      ],
      "metadata": {
        "id": "GhiU0GLqOd5e"
      },
      "execution_count": 10,
      "outputs": []
    },
    {
      "cell_type": "code",
      "source": [
        "n"
      ],
      "metadata": {
        "colab": {
          "base_uri": "https://localhost:8080/"
        },
        "id": "mjyeUYL8O1wh",
        "outputId": "b782616f-b344-4eb4-94fa-869204adac5e"
      },
      "execution_count": null,
      "outputs": [
        {
          "output_type": "execute_result",
          "data": {
            "text/plain": [
              "array([[-1.,  0.,  0.,  0.],\n",
              "       [ 1., -1.,  0.,  0.],\n",
              "       [ 0.,  1., -1.,  0.],\n",
              "       [ 0.,  0.,  1., -1.],\n",
              "       [ 0.,  0.,  0.,  1.]])"
            ]
          },
          "metadata": {},
          "execution_count": 15
        }
      ]
    },
    {
      "cell_type": "code",
      "source": [
        "m = np.arange(1,10)"
      ],
      "metadata": {
        "id": "Nc6a9bu0O1mT"
      },
      "execution_count": 11,
      "outputs": []
    },
    {
      "cell_type": "code",
      "source": [
        "m"
      ],
      "metadata": {
        "colab": {
          "base_uri": "https://localhost:8080/"
        },
        "id": "Gd2oO9SwO1jz",
        "outputId": "bc53d8c5-8ae8-49a9-fb50-b02d0886f9de"
      },
      "execution_count": null,
      "outputs": [
        {
          "output_type": "execute_result",
          "data": {
            "text/plain": [
              "array([1, 2, 3, 4, 5, 6, 7, 8, 9])"
            ]
          },
          "metadata": {},
          "execution_count": 17
        }
      ]
    },
    {
      "cell_type": "code",
      "source": [
        "np.save(\"x_data\",m)"
      ],
      "metadata": {
        "id": "g-1UtWX6PESW"
      },
      "execution_count": null,
      "outputs": []
    },
    {
      "cell_type": "code",
      "source": [
        "s= np.random.randint(32)"
      ],
      "metadata": {
        "id": "-1G1N_BrPEGF"
      },
      "execution_count": null,
      "outputs": []
    },
    {
      "cell_type": "code",
      "source": [
        "s"
      ],
      "metadata": {
        "colab": {
          "base_uri": "https://localhost:8080/"
        },
        "id": "KE-vK7-oPEC0",
        "outputId": "742f7176-7816-4fe9-b825-c4dae51c4b13"
      },
      "execution_count": null,
      "outputs": [
        {
          "output_type": "execute_result",
          "data": {
            "text/plain": [
              "10"
            ]
          },
          "metadata": {},
          "execution_count": 21
        }
      ]
    },
    {
      "cell_type": "code",
      "source": [
        "r2array = np.append(n, [[5,5,5,4],], 0)"
      ],
      "metadata": {
        "id": "U6OC0--LPEAH"
      },
      "execution_count": null,
      "outputs": []
    },
    {
      "cell_type": "code",
      "source": [
        "r2array"
      ],
      "metadata": {
        "colab": {
          "base_uri": "https://localhost:8080/"
        },
        "id": "M_AnV4mtSMBg",
        "outputId": "4258ece0-b5e6-479c-d016-87c6e03bce50"
      },
      "execution_count": null,
      "outputs": [
        {
          "output_type": "execute_result",
          "data": {
            "text/plain": [
              "array([[-1.,  0.,  0.,  0.],\n",
              "       [ 1., -1.,  0.,  0.],\n",
              "       [ 0.,  1., -1.,  0.],\n",
              "       [ 0.,  0.,  1., -1.],\n",
              "       [ 0.,  0.,  0.,  1.],\n",
              "       [ 5.,  5.,  5.,  4.]])"
            ]
          },
          "metadata": {},
          "execution_count": 29
        }
      ]
    },
    {
      "cell_type": "code",
      "source": [
        "d = n[3:,:4]\n",
        "d"
      ],
      "metadata": {
        "id": "dUDywjM7SRGo",
        "colab": {
          "base_uri": "https://localhost:8080/",
          "height": 0
        },
        "outputId": "37f4b891-3982-437b-8b93-f58a38ddf49d"
      },
      "execution_count": 24,
      "outputs": [
        {
          "output_type": "execute_result",
          "data": {
            "text/plain": [
              "array([[ 0.,  0.,  1., -1.],\n",
              "       [ 0.,  0.,  0.,  1.],\n",
              "       [ 0.,  0.,  0.,  0.]])"
            ]
          },
          "metadata": {},
          "execution_count": 24
        }
      ]
    },
    {
      "cell_type": "code",
      "source": [
        "\n",
        "f = np.sort(r2array)\n",
        "\n",
        "f"
      ],
      "metadata": {
        "id": "qmE4gpWlS5au"
      },
      "execution_count": null,
      "outputs": []
    },
    {
      "cell_type": "code",
      "source": [
        "array1 = np.array([1,5])\n",
        "array2 = np.array([4,4,4])"
      ],
      "metadata": {
        "id": "tdzT7z1yS5YM"
      },
      "execution_count": null,
      "outputs": []
    },
    {
      "cell_type": "code",
      "source": [
        "np.add(array1,array2) # Broadcasting needed"
      ],
      "metadata": {
        "colab": {
          "base_uri": "https://localhost:8080/",
          "height": 175
        },
        "id": "L5NCzwODS5V1",
        "outputId": "3426116b-646a-4446-8d30-ab3bd8b9fa9e"
      },
      "execution_count": null,
      "outputs": [
        {
          "output_type": "error",
          "ename": "ValueError",
          "evalue": "ignored",
          "traceback": [
            "\u001b[0;31m---------------------------------------------------------------------------\u001b[0m",
            "\u001b[0;31mValueError\u001b[0m                                Traceback (most recent call last)",
            "\u001b[0;32m<ipython-input-46-8417ea488d7c>\u001b[0m in \u001b[0;36m<cell line: 1>\u001b[0;34m()\u001b[0m\n\u001b[0;32m----> 1\u001b[0;31m \u001b[0mnp\u001b[0m\u001b[0;34m.\u001b[0m\u001b[0madd\u001b[0m\u001b[0;34m(\u001b[0m\u001b[0marray1\u001b[0m\u001b[0;34m,\u001b[0m\u001b[0marray2\u001b[0m\u001b[0;34m)\u001b[0m \u001b[0;31m# Broadcasting needed\u001b[0m\u001b[0;34m\u001b[0m\u001b[0;34m\u001b[0m\u001b[0m\n\u001b[0m",
            "\u001b[0;31mValueError\u001b[0m: operands could not be broadcast together with shapes (2,) (3,) "
          ]
        }
      ]
    },
    {
      "cell_type": "code",
      "source": [
        "g = n.mean()"
      ],
      "metadata": {
        "id": "GlG6E8_fS5TJ"
      },
      "execution_count": null,
      "outputs": []
    },
    {
      "cell_type": "code",
      "source": [
        "g"
      ],
      "metadata": {
        "colab": {
          "base_uri": "https://localhost:8080/"
        },
        "id": "yQxdbXShS5Qm",
        "outputId": "937c099f-beb7-46b5-b4bb-cc9d364e6567"
      },
      "execution_count": null,
      "outputs": [
        {
          "output_type": "execute_result",
          "data": {
            "text/plain": [
              "0.0"
            ]
          },
          "metadata": {},
          "execution_count": 44
        }
      ]
    },
    {
      "cell_type": "markdown",
      "source": [
        "Lab Tasks:"
      ],
      "metadata": {
        "id": "HTI3bc-xYbKa"
      }
    },
    {
      "cell_type": "markdown",
      "source": [
        "Task # 01:"
      ],
      "metadata": {
        "id": "9VASPbG6VDTp"
      }
    },
    {
      "cell_type": "code",
      "source": [
        "import numpy as np\n",
        "\n",
        "X = np.arange(2, 33, 2).reshape(4, 4)\n",
        "\n",
        "print(X)\n"
      ],
      "metadata": {
        "colab": {
          "base_uri": "https://localhost:8080/"
        },
        "id": "L2-zSHbneLTM",
        "outputId": "adc64528-6fa8-4cee-a845-4c59c37f5b00"
      },
      "execution_count": null,
      "outputs": [
        {
          "output_type": "stream",
          "name": "stdout",
          "text": [
            "[[ 2  4  6  8]\n",
            " [10 12 14 16]\n",
            " [18 20 22 24]\n",
            " [26 28 30 32]]\n"
          ]
        }
      ]
    },
    {
      "cell_type": "markdown",
      "source": [
        "Task # 02:"
      ],
      "metadata": {
        "id": "MODO09OoVKMp"
      }
    },
    {
      "cell_type": "code",
      "source": [
        "import numpy as np\n",
        "\n",
        "# Create a 5 x 5 ndarray with consecutive integers from 1 to 25 (inclusive).\n",
        "X = np.arange(1, 26).reshape(5, 5)\n",
        "\n",
        "# Use Boolean indexing to pick out only the odd numbers in the array\n",
        "Y = X[X % 2 != 0]\n",
        "\n",
        "print(\"Original Array:\")\n",
        "print(X)\n",
        "\n",
        "print(\"\\nArray with Odd Numbers:\")\n",
        "print(Y)\n"
      ],
      "metadata": {
        "colab": {
          "base_uri": "https://localhost:8080/"
        },
        "id": "VQ4BUrfZeybK",
        "outputId": "5a6c4fac-afd2-4185-8b89-2b578ac929ad"
      },
      "execution_count": null,
      "outputs": [
        {
          "output_type": "stream",
          "name": "stdout",
          "text": [
            "Original Array:\n",
            "[[ 1  2  3  4  5]\n",
            " [ 6  7  8  9 10]\n",
            " [11 12 13 14 15]\n",
            " [16 17 18 19 20]\n",
            " [21 22 23 24 25]]\n",
            "\n",
            "Array with Odd Numbers:\n",
            "[ 1  3  5  7  9 11 13 15 17 19 21 23 25]\n"
          ]
        }
      ]
    },
    {
      "cell_type": "markdown",
      "source": [
        "Task # 03:"
      ],
      "metadata": {
        "id": "1J6kfaJ5VNzh"
      }
    },
    {
      "cell_type": "code",
      "source": [
        "import numpy as np\n",
        "\n",
        "# Use Broadcasting to create a 4 x 4 ndarray with consecutive columns\n",
        "X = np.arange(1, 5)[:, np.newaxis] * np.ones((1, 4))\n",
        "\n",
        "print(X)\n"
      ],
      "metadata": {
        "colab": {
          "base_uri": "https://localhost:8080/"
        },
        "id": "Xtufm934fVHa",
        "outputId": "3c2887d3-289a-474d-9ab5-60282e2d18a9"
      },
      "execution_count": null,
      "outputs": [
        {
          "output_type": "stream",
          "name": "stdout",
          "text": [
            "[[1. 1. 1. 1.]\n",
            " [2. 2. 2. 2.]\n",
            " [3. 3. 3. 3.]\n",
            " [4. 4. 4. 4.]]\n"
          ]
        }
      ]
    },
    {
      "cell_type": "markdown",
      "source": [],
      "metadata": {
        "id": "b7WCjZR-_DhD"
      }
    },
    {
      "cell_type": "markdown",
      "metadata": {
        "id": "50AOaoGmVieM"
      },
      "source": [
        " Mean Normalization\n",
        "\n",
        "In machine learning we use large amounts of data to train our models. Some machine learning algorithms may require that the data is *normalized* in order to work correctly. The idea of normalization, also known as *feature scaling*, is to ensure that all the data is on a similar scale, *i.e.* that all the data takes on a similar range of values. For example, we might have a dataset that has values between 0 and 5,000. By normalizing the data we can make the range of values be between 0 and 1.\n",
        "\n",
        "In this lab, you will be performing a different kind of feature scaling known as *mean normalization*. Mean normalization will scale the data, but instead of making the values be between 0 and 1, it will distribute the values evenly in some small interval around zero. For example, if we have a dataset that has values between 0 and 5,000, after mean normalization the range of values will be distributed in some small range around 0, for example between -3 to 3. Because the range of values are distributed evenly around zero, this guarantees that the average (mean) of all elements will be zero. Therefore, when you perform *mean normalization* your data will not only be scaled but it will also have an average of zero.\n",
        "\n",
        "To Do:\n",
        "\n",
        "You will start by importing NumPy and creating a rank 2 ndarray of random integers between 0 and 5,000 (inclusive) with 1000 rows and 20 columns. This array will simulate a dataset with a wide range of values. Fill in the code below"
      ]
    },
    {
      "cell_type": "code",
      "execution_count": null,
      "metadata": {
        "colab": {
          "base_uri": "https://localhost:8080/"
        },
        "id": "BgF9ZOALVieS",
        "outputId": "07a49fc0-deaf-4851-cc92-6353cef01c34"
      },
      "outputs": [
        {
          "output_type": "stream",
          "name": "stdout",
          "text": [
            "Shape of random_array: (1000, 20)\n"
          ]
        }
      ],
      "source": [
        "# import NumPy into Python\n",
        "\n",
        "import numpy as np\n",
        "\n",
        "# Create a 1000 x 20 ndarray with random integers in the half-open interval [0, 5001).\n",
        "lower_bound = 0\n",
        "upper_bound = 5001\n",
        "array_shape = (1000, 20)\n",
        "\n",
        "X = np.random.randint(lower_bound, upper_bound, size=array_shape)\n",
        "\n",
        "# print the shape of X\n",
        "print(\"Shape of random_array:\", X.shape)"
      ]
    },
    {
      "cell_type": "markdown",
      "metadata": {
        "id": "aReAm27OVieV"
      },
      "source": [
        "Now that you created the array we will mean normalize it. We will perform mean normalization using the following equation:\n",
        "     \n",
        "  $\\mbox{Norm_Col}_i = \\frac{\\mbox{Col}_i - \\mu_i}{\\sigma_i}$\n",
        "\n",
        "where $\\mbox{Col}_i$ is the $i$th column of $X$, $\\mu_i$ is average of the values in the $i$th column of $X$, and $\\sigma_i$ is the standard deviation of the values in the $i$th column of $X$. In other words, mean normalization is performed by subtracting from each column of $X$ the average of its values, and then by dividing by the standard deviation of its values. In the space below, you will first calculate the average and standard deviation of each column of $X$."
      ]
    },
    {
      "cell_type": "code",
      "execution_count": null,
      "metadata": {
        "id": "CW_8KYDSVieV"
      },
      "outputs": [],
      "source": [
        "# Average of the values in each column of X\n",
        "ave_cols = np.mean(X, axis=0)\n",
        "# Standard Deviation of the values in each column of X\n",
        "std_cols = np.std(X, axis=0)"
      ]
    },
    {
      "cell_type": "markdown",
      "metadata": {
        "id": "LgtQ4liaVieW"
      },
      "source": [
        "If you have done the above calculations correctly, then `ave_cols` and `std_cols`, should both be vectors with shape `(20,)` since $X$ has 20 columns. You can verify this by filling the code below:"
      ]
    },
    {
      "cell_type": "code",
      "execution_count": null,
      "metadata": {
        "colab": {
          "base_uri": "https://localhost:8080/"
        },
        "id": "U8o7rGAgVieW",
        "outputId": "b27583a9-0990-4a0e-9284-fa8ecac61d29"
      },
      "outputs": [
        {
          "output_type": "stream",
          "name": "stdout",
          "text": [
            "Shape of column_averages: (20,)\n",
            "Shape of column_stddevs: (20,)\n"
          ]
        }
      ],
      "source": [
        "# Print the shape of ave_cols\n",
        "print(\"Shape of column_averages:\", ave_cols.shape)\n",
        "\n",
        "# Print the shape of std_cols\n",
        "print(\"Shape of column_stddevs:\", std_cols.shape)"
      ]
    },
    {
      "cell_type": "markdown",
      "metadata": {
        "id": "SRoSEkkqVieX"
      },
      "source": [
        "You can now take advantage of Broadcasting to calculate the mean normalized version of $X$ in just one line of code using the equation above. Fill in the code below"
      ]
    },
    {
      "cell_type": "code",
      "execution_count": null,
      "metadata": {
        "id": "IvNwbHo-VieX"
      },
      "outputs": [],
      "source": [
        "# Calculate the mean of each column\n",
        "column_means = np.mean(X, axis=0)\n",
        "\n",
        "# Mean normalize X\n",
        "X_norm = X - column_means"
      ]
    },
    {
      "cell_type": "markdown",
      "metadata": {
        "id": "Dd_9ur04VieY"
      },
      "source": [
        "If you have performed the mean normalization correctly, then the average of all the elements in $X_{\\tiny{\\mbox{norm}}}$ should be close to zero, and they should be evenly distributed in some small interval around zero. You can verify this by filing the code below:"
      ]
    },
    {
      "cell_type": "code",
      "execution_count": null,
      "metadata": {
        "id": "IGbpS9xdVieY"
      },
      "outputs": [],
      "source": [
        "# Print the average of all the values of X_norm\n",
        "average_mean_normalized = np.mean(X_norm)\n",
        "\n",
        "# Print the average of the minimum value in each column of X_norm\n",
        "average_min_value = np.mean(np.min(X_norm, axis=0))\n",
        "\n",
        "# Print the average of the maximum value in each column of X_norm\n",
        "average_max_value = np.mean(np.max(X_norm, axis=0))"
      ]
    },
    {
      "cell_type": "markdown",
      "metadata": {
        "id": "O3O4dhCQVieZ"
      },
      "source": [
        "You should note that since $X$ was created using random integers, the above values will vary.\n",
        "\n",
        " Data Separation\n",
        "\n",
        "After the data has been mean normalized, it is customary in machine learnig to split our dataset into three sets:\n",
        "\n",
        "1. A Training Set\n",
        "2. A Cross Validation Set\n",
        "3. A Test Set\n",
        "\n",
        "The dataset is usually divided such that the Training Set contains 60% of the data, the Cross Validation Set contains 20% of the data, and the Test Set contains 20% of the data.\n",
        "\n",
        "In this part of the lab you will separate `X_norm` into a Training Set, Cross Validation Set, and a Test Set. Each data set will contain rows of `X_norm` chosen at random, making sure that we don't pick the same row twice. This will guarantee that all the rows of `X_norm` are chosen and randomly distributed among the three new sets.\n",
        "\n",
        "You will start by creating a rank 1 ndarray that contains a random permutation of the row indices of `X_norm`. You can do this by using the `np.random.permutation()` function. The `np.random.permutation(N)` function creates a random permutation of integers from 0 to `N - 1`. Let's see an example:"
      ]
    },
    {
      "cell_type": "code",
      "execution_count": null,
      "metadata": {
        "id": "DNWaLmbeVieZ",
        "colab": {
          "base_uri": "https://localhost:8080/"
        },
        "outputId": "ce3803bd-5fb5-4ef7-fa0a-7db580232c65"
      },
      "outputs": [
        {
          "output_type": "execute_result",
          "data": {
            "text/plain": [
              "array([2, 4, 3, 1, 0])"
            ]
          },
          "metadata": {},
          "execution_count": 7
        }
      ],
      "source": [
        "# We create a random permutation of integers 0 to 4\n",
        "np.random.permutation(5)"
      ]
    },
    {
      "cell_type": "markdown",
      "metadata": {
        "id": "PdIcE82IViea"
      },
      "source": [
        "\n",
        " To Do\n",
        "\n",
        "In the space below create a rank 1 ndarray that contains a random permutation of the row indices of `X_norm`. You can do this in one line of code by extracting the number of rows of `X_norm` using the `shape` attribute and then passing it to the  `np.random.permutation()` function. Remember the `shape` attribute returns a tuple with two numbers in the form `(rows,columns)`."
      ]
    },
    {
      "cell_type": "code",
      "execution_count": null,
      "metadata": {
        "id": "hVjrVnPfViea"
      },
      "outputs": [],
      "source": [
        "# Create a rank 1 ndarray that contains a random permutation of the row indices of `X_norm`\n",
        "random_permutation = np.random.permutation(X_norm.shape[0])"
      ]
    },
    {
      "cell_type": "markdown",
      "metadata": {
        "id": "oYmEVh7SVieb"
      },
      "source": [
        "Now you can create the three datasets using the `row_indices` ndarray to select the rows that will go into each dataset. Rememeber that the Training Set contains 60% of the data, the Cross Validation Set contains 20% of the data, and the Test Set contains 20% of the data. Each set requires just one line of code to create. Fill in the code below"
      ]
    },
    {
      "cell_type": "code",
      "execution_count": null,
      "metadata": {
        "id": "n_C610LHViec"
      },
      "outputs": [],
      "source": [
        "# Make any necessary calculations.\n",
        "\n",
        "# Calculate the indices for splitting the data\n",
        "train_size = int(0.6 * random_permutation.shape[0])\n",
        "cross_val_size = int(0.2 * random_permutation.shape[0])\n",
        "\n",
        "# You can save your calculations into variables to use later.\n",
        "\n",
        "# Create a Training Set\n",
        "X_train = X_norm[random_permutation[:train_size]]\n",
        "\n",
        "# Create a Cross Validation Set\n",
        "X_crossVal = X_norm[random_permutation[train_size : train_size + cross_val_size]]\n",
        "\n",
        "# Create a Test Set\n",
        "X_test = X_norm[random_permutation[train_size + cross_val_size:]]"
      ]
    },
    {
      "cell_type": "markdown",
      "metadata": {
        "id": "QOZNqJ6nVied"
      },
      "source": [
        "If you performed the above calculations correctly, then `X_tain` should have 600 rows and 20 columns, `X_crossVal` should have 200 rows and 20 columns, and `X_test` should have 200 rows and 20 columns. You can verify this by filling the code below:"
      ]
    },
    {
      "cell_type": "code",
      "execution_count": null,
      "metadata": {
        "id": "O6ikbs7ZVied",
        "colab": {
          "base_uri": "https://localhost:8080/"
        },
        "outputId": "961c5503-fd4c-471d-c2e5-057d24d7662d"
      },
      "outputs": [
        {
          "output_type": "stream",
          "name": "stdout",
          "text": [
            "Shape of X_train: (600, 20)\n",
            "Shape of X_crossVal: (200, 20)\n",
            "Shape of X_test: (200, 20)\n"
          ]
        }
      ],
      "source": [
        "# Print the shape of X_train\n",
        "print(\"Shape of X_train:\", X_train.shape)\n",
        "\n",
        "# Print the shape of X_crossVal\n",
        "print(\"Shape of X_crossVal:\", X_crossVal.shape)\n",
        "\n",
        "# Print the shape of X_test\n",
        "print(\"Shape of X_test:\", X_test.shape)"
      ]
    }
  ]
}