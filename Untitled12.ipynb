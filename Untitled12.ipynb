{
  "nbformat": 4,
  "nbformat_minor": 0,
  "metadata": {
    "colab": {
      "provenance": [],
      "authorship_tag": "ABX9TyNVLKw4sDpM+0Ja1pjCf4i0",
      "include_colab_link": true
    },
    "kernelspec": {
      "name": "python3",
      "display_name": "Python 3"
    },
    "language_info": {
      "name": "python"
    }
  },
  "cells": [
    {
      "cell_type": "markdown",
      "metadata": {
        "id": "view-in-github",
        "colab_type": "text"
      },
      "source": [
        "<a href=\"https://colab.research.google.com/github/ebaad4000/python/blob/main/Untitled12.ipynb\" target=\"_parent\"><img src=\"https://colab.research.google.com/assets/colab-badge.svg\" alt=\"Open In Colab\"/></a>"
      ]
    },
    {
      "cell_type": "code",
      "source": [
        "-- 21. Write a query that returns all the orders where the standard_qty is over 1000, the poster_qty is 0, and the gloss_qty is 0.\n",
        "SELECT *\n",
        "FROM orders\n",
        "WHERE standard_qty > 1000 AND poster_qty = 0 AND gloss_qty = 0;\n",
        "\n",
        "-- 22. Using the accounts table find all the companies whose names do not start with 'C' and end with 's'.\n",
        "SELECT *\n",
        "FROM accounts\n",
        "WHERE account_name NOT LIKE 'C%' AND account_name LIKE '%s';\n",
        "\n",
        "-- 23. Use the web_events table to find all information regarding individuals who were contacted via organic or adwords and started their account at any point in 2016 sorted from newest to oldest.\n",
        "SELECT *\n",
        "FROM web_events\n",
        "WHERE (channel = 'organic' OR channel = 'adwords') AND EXTRACT(YEAR FROM occurred_at) = 2016\n",
        "ORDER BY occurred_at DESC;"
      ],
      "metadata": {
        "id": "cMrn1KqQUGgF"
      },
      "execution_count": null,
      "outputs": []
    }
  ]
}